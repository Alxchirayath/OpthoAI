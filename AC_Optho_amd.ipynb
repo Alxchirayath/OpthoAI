{
  "nbformat": 4,
  "nbformat_minor": 0,
  "metadata": {
    "colab": {
      "provenance": [],
      "gpuType": "T4",
      "machine_shape": "hm",
      "include_colab_link": true
    },
    "kernelspec": {
      "name": "python3",
      "display_name": "Python 3"
    },
    "language_info": {
      "name": "python"
    },
    "accelerator": "GPU"
  },
  "cells": [
    {
      "cell_type": "markdown",
      "metadata": {
        "id": "view-in-github",
        "colab_type": "text"
      },
      "source": [
        "<a href=\"https://colab.research.google.com/github/Alxchirayath/OpthoAI/blob/main/AC_Optho_amd.ipynb\" target=\"_parent\"><img src=\"https://colab.research.google.com/assets/colab-badge.svg\" alt=\"Open In Colab\"/></a>"
      ]
    },
    {
      "cell_type": "code",
      "source": [
        "#@title Loading in our data and importing necessary packages\n",
        "import numpy as np\n",
        "import pandas as pd\n",
        "import cv2\n",
        "import seaborn as sns\n",
        "import matplotlib.pyplot as plt\n",
        "from keras.utils import to_categorical\n",
        "from sklearn.model_selection import train_test_split\n",
        "\n",
        "from numpy import expand_dims\n",
        "from tensorflow.keras.preprocessing.image import load_img\n",
        "from tensorflow.keras.preprocessing.image import img_to_array\n",
        "from tensorflow.keras.preprocessing.image import ImageDataGenerator"
      ],
      "metadata": {
        "id": "Vhzpl0fzJuKS"
      },
      "execution_count": null,
      "outputs": []
    },
    {
      "cell_type": "code",
      "source": [
        "from google.colab import drive\n",
        "drive.mount('/content/drive')"
      ],
      "metadata": {
        "id": "gQsectfdJIdQ",
        "colab": {
          "base_uri": "https://localhost:8080/"
        },
        "outputId": "68f4eeb3-82e1-4de6-c8a9-b7e6fba773a9"
      },
      "execution_count": null,
      "outputs": [
        {
          "output_type": "stream",
          "name": "stdout",
          "text": [
            "Mounted at /content/drive\n"
          ]
        }
      ]
    },
    {
      "cell_type": "code",
      "source": [
        "data_frame = pd.read_csv(\"/content/drive/MyDrive/Tempdata/a-brazilian-multilabel-ophthalmological-dataset-brset-1.0.0/labels.csv\")\n",
        "data_frame.head()"
      ],
      "metadata": {
        "id": "ryB5OmgjQfMv",
        "colab": {
          "base_uri": "https://localhost:8080/",
          "height": 342
        },
        "outputId": "9ab836c3-c969-450c-e8aa-7cf678350441"
      },
      "execution_count": null,
      "outputs": [
        {
          "output_type": "execute_result",
          "data": {
            "text/plain": [
              "   image_id  patient_id    camera  patient_age comorbidities diabetes_time_y  \\\n",
              "0  img00001           1  Canon CR         48.0     diabetes1              12   \n",
              "1  img00002           1  Canon CR         48.0     diabetes1              12   \n",
              "2  img00003           2  Canon CR         18.0     diabetes1               7   \n",
              "3  img00004           2  Canon CR         18.0     diabetes1               7   \n",
              "4  img00005           3  Canon CR         22.0     diabetes1              11   \n",
              "\n",
              "  insuline  patient_sex  exam_eye diabetes  ... amd vascular_occlusion  \\\n",
              "0      yes            1         1      yes  ...   0                  0   \n",
              "1      yes            1         2      yes  ...   0                  0   \n",
              "2      yes            2         1      yes  ...   0                  0   \n",
              "3      yes            2         2      yes  ...   0                  0   \n",
              "4      yes            1         1      yes  ...   0                  0   \n",
              "\n",
              "   hypertensive_retinopathy  drusens  hemorrhage  retinal_detachment  \\\n",
              "0                         0        0           0                   0   \n",
              "1                         0        0           0                   0   \n",
              "2                         0        0           0                   0   \n",
              "3                         0        0           0                   0   \n",
              "4                         0        0           0                   0   \n",
              "\n",
              "   myopic_fundus  increased_cup_disc  other   quality  \n",
              "0              0                   1      0  Adequate  \n",
              "1              0                   1      0  Adequate  \n",
              "2              0                   0      0  Adequate  \n",
              "3              0                   0      0  Adequate  \n",
              "4              0                   0      0  Adequate  \n",
              "\n",
              "[5 rows x 34 columns]"
            ],
            "text/html": [
              "\n",
              "  <div id=\"df-9abb4a8b-0a2c-449f-9330-39882d8f1060\" class=\"colab-df-container\">\n",
              "    <div>\n",
              "<style scoped>\n",
              "    .dataframe tbody tr th:only-of-type {\n",
              "        vertical-align: middle;\n",
              "    }\n",
              "\n",
              "    .dataframe tbody tr th {\n",
              "        vertical-align: top;\n",
              "    }\n",
              "\n",
              "    .dataframe thead th {\n",
              "        text-align: right;\n",
              "    }\n",
              "</style>\n",
              "<table border=\"1\" class=\"dataframe\">\n",
              "  <thead>\n",
              "    <tr style=\"text-align: right;\">\n",
              "      <th></th>\n",
              "      <th>image_id</th>\n",
              "      <th>patient_id</th>\n",
              "      <th>camera</th>\n",
              "      <th>patient_age</th>\n",
              "      <th>comorbidities</th>\n",
              "      <th>diabetes_time_y</th>\n",
              "      <th>insuline</th>\n",
              "      <th>patient_sex</th>\n",
              "      <th>exam_eye</th>\n",
              "      <th>diabetes</th>\n",
              "      <th>...</th>\n",
              "      <th>amd</th>\n",
              "      <th>vascular_occlusion</th>\n",
              "      <th>hypertensive_retinopathy</th>\n",
              "      <th>drusens</th>\n",
              "      <th>hemorrhage</th>\n",
              "      <th>retinal_detachment</th>\n",
              "      <th>myopic_fundus</th>\n",
              "      <th>increased_cup_disc</th>\n",
              "      <th>other</th>\n",
              "      <th>quality</th>\n",
              "    </tr>\n",
              "  </thead>\n",
              "  <tbody>\n",
              "    <tr>\n",
              "      <th>0</th>\n",
              "      <td>img00001</td>\n",
              "      <td>1</td>\n",
              "      <td>Canon CR</td>\n",
              "      <td>48.0</td>\n",
              "      <td>diabetes1</td>\n",
              "      <td>12</td>\n",
              "      <td>yes</td>\n",
              "      <td>1</td>\n",
              "      <td>1</td>\n",
              "      <td>yes</td>\n",
              "      <td>...</td>\n",
              "      <td>0</td>\n",
              "      <td>0</td>\n",
              "      <td>0</td>\n",
              "      <td>0</td>\n",
              "      <td>0</td>\n",
              "      <td>0</td>\n",
              "      <td>0</td>\n",
              "      <td>1</td>\n",
              "      <td>0</td>\n",
              "      <td>Adequate</td>\n",
              "    </tr>\n",
              "    <tr>\n",
              "      <th>1</th>\n",
              "      <td>img00002</td>\n",
              "      <td>1</td>\n",
              "      <td>Canon CR</td>\n",
              "      <td>48.0</td>\n",
              "      <td>diabetes1</td>\n",
              "      <td>12</td>\n",
              "      <td>yes</td>\n",
              "      <td>1</td>\n",
              "      <td>2</td>\n",
              "      <td>yes</td>\n",
              "      <td>...</td>\n",
              "      <td>0</td>\n",
              "      <td>0</td>\n",
              "      <td>0</td>\n",
              "      <td>0</td>\n",
              "      <td>0</td>\n",
              "      <td>0</td>\n",
              "      <td>0</td>\n",
              "      <td>1</td>\n",
              "      <td>0</td>\n",
              "      <td>Adequate</td>\n",
              "    </tr>\n",
              "    <tr>\n",
              "      <th>2</th>\n",
              "      <td>img00003</td>\n",
              "      <td>2</td>\n",
              "      <td>Canon CR</td>\n",
              "      <td>18.0</td>\n",
              "      <td>diabetes1</td>\n",
              "      <td>7</td>\n",
              "      <td>yes</td>\n",
              "      <td>2</td>\n",
              "      <td>1</td>\n",
              "      <td>yes</td>\n",
              "      <td>...</td>\n",
              "      <td>0</td>\n",
              "      <td>0</td>\n",
              "      <td>0</td>\n",
              "      <td>0</td>\n",
              "      <td>0</td>\n",
              "      <td>0</td>\n",
              "      <td>0</td>\n",
              "      <td>0</td>\n",
              "      <td>0</td>\n",
              "      <td>Adequate</td>\n",
              "    </tr>\n",
              "    <tr>\n",
              "      <th>3</th>\n",
              "      <td>img00004</td>\n",
              "      <td>2</td>\n",
              "      <td>Canon CR</td>\n",
              "      <td>18.0</td>\n",
              "      <td>diabetes1</td>\n",
              "      <td>7</td>\n",
              "      <td>yes</td>\n",
              "      <td>2</td>\n",
              "      <td>2</td>\n",
              "      <td>yes</td>\n",
              "      <td>...</td>\n",
              "      <td>0</td>\n",
              "      <td>0</td>\n",
              "      <td>0</td>\n",
              "      <td>0</td>\n",
              "      <td>0</td>\n",
              "      <td>0</td>\n",
              "      <td>0</td>\n",
              "      <td>0</td>\n",
              "      <td>0</td>\n",
              "      <td>Adequate</td>\n",
              "    </tr>\n",
              "    <tr>\n",
              "      <th>4</th>\n",
              "      <td>img00005</td>\n",
              "      <td>3</td>\n",
              "      <td>Canon CR</td>\n",
              "      <td>22.0</td>\n",
              "      <td>diabetes1</td>\n",
              "      <td>11</td>\n",
              "      <td>yes</td>\n",
              "      <td>1</td>\n",
              "      <td>1</td>\n",
              "      <td>yes</td>\n",
              "      <td>...</td>\n",
              "      <td>0</td>\n",
              "      <td>0</td>\n",
              "      <td>0</td>\n",
              "      <td>0</td>\n",
              "      <td>0</td>\n",
              "      <td>0</td>\n",
              "      <td>0</td>\n",
              "      <td>0</td>\n",
              "      <td>0</td>\n",
              "      <td>Adequate</td>\n",
              "    </tr>\n",
              "  </tbody>\n",
              "</table>\n",
              "<p>5 rows × 34 columns</p>\n",
              "</div>\n",
              "    <div class=\"colab-df-buttons\">\n",
              "\n",
              "  <div class=\"colab-df-container\">\n",
              "    <button class=\"colab-df-convert\" onclick=\"convertToInteractive('df-9abb4a8b-0a2c-449f-9330-39882d8f1060')\"\n",
              "            title=\"Convert this dataframe to an interactive table.\"\n",
              "            style=\"display:none;\">\n",
              "\n",
              "  <svg xmlns=\"http://www.w3.org/2000/svg\" height=\"24px\" viewBox=\"0 -960 960 960\">\n",
              "    <path d=\"M120-120v-720h720v720H120Zm60-500h600v-160H180v160Zm220 220h160v-160H400v160Zm0 220h160v-160H400v160ZM180-400h160v-160H180v160Zm440 0h160v-160H620v160ZM180-180h160v-160H180v160Zm440 0h160v-160H620v160Z\"/>\n",
              "  </svg>\n",
              "    </button>\n",
              "\n",
              "  <style>\n",
              "    .colab-df-container {\n",
              "      display:flex;\n",
              "      gap: 12px;\n",
              "    }\n",
              "\n",
              "    .colab-df-convert {\n",
              "      background-color: #E8F0FE;\n",
              "      border: none;\n",
              "      border-radius: 50%;\n",
              "      cursor: pointer;\n",
              "      display: none;\n",
              "      fill: #1967D2;\n",
              "      height: 32px;\n",
              "      padding: 0 0 0 0;\n",
              "      width: 32px;\n",
              "    }\n",
              "\n",
              "    .colab-df-convert:hover {\n",
              "      background-color: #E2EBFA;\n",
              "      box-shadow: 0px 1px 2px rgba(60, 64, 67, 0.3), 0px 1px 3px 1px rgba(60, 64, 67, 0.15);\n",
              "      fill: #174EA6;\n",
              "    }\n",
              "\n",
              "    .colab-df-buttons div {\n",
              "      margin-bottom: 4px;\n",
              "    }\n",
              "\n",
              "    [theme=dark] .colab-df-convert {\n",
              "      background-color: #3B4455;\n",
              "      fill: #D2E3FC;\n",
              "    }\n",
              "\n",
              "    [theme=dark] .colab-df-convert:hover {\n",
              "      background-color: #434B5C;\n",
              "      box-shadow: 0px 1px 3px 1px rgba(0, 0, 0, 0.15);\n",
              "      filter: drop-shadow(0px 1px 2px rgba(0, 0, 0, 0.3));\n",
              "      fill: #FFFFFF;\n",
              "    }\n",
              "  </style>\n",
              "\n",
              "    <script>\n",
              "      const buttonEl =\n",
              "        document.querySelector('#df-9abb4a8b-0a2c-449f-9330-39882d8f1060 button.colab-df-convert');\n",
              "      buttonEl.style.display =\n",
              "        google.colab.kernel.accessAllowed ? 'block' : 'none';\n",
              "\n",
              "      async function convertToInteractive(key) {\n",
              "        const element = document.querySelector('#df-9abb4a8b-0a2c-449f-9330-39882d8f1060');\n",
              "        const dataTable =\n",
              "          await google.colab.kernel.invokeFunction('convertToInteractive',\n",
              "                                                    [key], {});\n",
              "        if (!dataTable) return;\n",
              "\n",
              "        const docLinkHtml = 'Like what you see? Visit the ' +\n",
              "          '<a target=\"_blank\" href=https://colab.research.google.com/notebooks/data_table.ipynb>data table notebook</a>'\n",
              "          + ' to learn more about interactive tables.';\n",
              "        element.innerHTML = '';\n",
              "        dataTable['output_type'] = 'display_data';\n",
              "        await google.colab.output.renderOutput(dataTable, element);\n",
              "        const docLink = document.createElement('div');\n",
              "        docLink.innerHTML = docLinkHtml;\n",
              "        element.appendChild(docLink);\n",
              "      }\n",
              "    </script>\n",
              "  </div>\n",
              "\n",
              "\n",
              "<div id=\"df-184496d2-2857-4e3d-9c5f-3bc69a99dd52\">\n",
              "  <button class=\"colab-df-quickchart\" onclick=\"quickchart('df-184496d2-2857-4e3d-9c5f-3bc69a99dd52')\"\n",
              "            title=\"Suggest charts\"\n",
              "            style=\"display:none;\">\n",
              "\n",
              "<svg xmlns=\"http://www.w3.org/2000/svg\" height=\"24px\"viewBox=\"0 0 24 24\"\n",
              "     width=\"24px\">\n",
              "    <g>\n",
              "        <path d=\"M19 3H5c-1.1 0-2 .9-2 2v14c0 1.1.9 2 2 2h14c1.1 0 2-.9 2-2V5c0-1.1-.9-2-2-2zM9 17H7v-7h2v7zm4 0h-2V7h2v10zm4 0h-2v-4h2v4z\"/>\n",
              "    </g>\n",
              "</svg>\n",
              "  </button>\n",
              "\n",
              "<style>\n",
              "  .colab-df-quickchart {\n",
              "      --bg-color: #E8F0FE;\n",
              "      --fill-color: #1967D2;\n",
              "      --hover-bg-color: #E2EBFA;\n",
              "      --hover-fill-color: #174EA6;\n",
              "      --disabled-fill-color: #AAA;\n",
              "      --disabled-bg-color: #DDD;\n",
              "  }\n",
              "\n",
              "  [theme=dark] .colab-df-quickchart {\n",
              "      --bg-color: #3B4455;\n",
              "      --fill-color: #D2E3FC;\n",
              "      --hover-bg-color: #434B5C;\n",
              "      --hover-fill-color: #FFFFFF;\n",
              "      --disabled-bg-color: #3B4455;\n",
              "      --disabled-fill-color: #666;\n",
              "  }\n",
              "\n",
              "  .colab-df-quickchart {\n",
              "    background-color: var(--bg-color);\n",
              "    border: none;\n",
              "    border-radius: 50%;\n",
              "    cursor: pointer;\n",
              "    display: none;\n",
              "    fill: var(--fill-color);\n",
              "    height: 32px;\n",
              "    padding: 0;\n",
              "    width: 32px;\n",
              "  }\n",
              "\n",
              "  .colab-df-quickchart:hover {\n",
              "    background-color: var(--hover-bg-color);\n",
              "    box-shadow: 0 1px 2px rgba(60, 64, 67, 0.3), 0 1px 3px 1px rgba(60, 64, 67, 0.15);\n",
              "    fill: var(--button-hover-fill-color);\n",
              "  }\n",
              "\n",
              "  .colab-df-quickchart-complete:disabled,\n",
              "  .colab-df-quickchart-complete:disabled:hover {\n",
              "    background-color: var(--disabled-bg-color);\n",
              "    fill: var(--disabled-fill-color);\n",
              "    box-shadow: none;\n",
              "  }\n",
              "\n",
              "  .colab-df-spinner {\n",
              "    border: 2px solid var(--fill-color);\n",
              "    border-color: transparent;\n",
              "    border-bottom-color: var(--fill-color);\n",
              "    animation:\n",
              "      spin 1s steps(1) infinite;\n",
              "  }\n",
              "\n",
              "  @keyframes spin {\n",
              "    0% {\n",
              "      border-color: transparent;\n",
              "      border-bottom-color: var(--fill-color);\n",
              "      border-left-color: var(--fill-color);\n",
              "    }\n",
              "    20% {\n",
              "      border-color: transparent;\n",
              "      border-left-color: var(--fill-color);\n",
              "      border-top-color: var(--fill-color);\n",
              "    }\n",
              "    30% {\n",
              "      border-color: transparent;\n",
              "      border-left-color: var(--fill-color);\n",
              "      border-top-color: var(--fill-color);\n",
              "      border-right-color: var(--fill-color);\n",
              "    }\n",
              "    40% {\n",
              "      border-color: transparent;\n",
              "      border-right-color: var(--fill-color);\n",
              "      border-top-color: var(--fill-color);\n",
              "    }\n",
              "    60% {\n",
              "      border-color: transparent;\n",
              "      border-right-color: var(--fill-color);\n",
              "    }\n",
              "    80% {\n",
              "      border-color: transparent;\n",
              "      border-right-color: var(--fill-color);\n",
              "      border-bottom-color: var(--fill-color);\n",
              "    }\n",
              "    90% {\n",
              "      border-color: transparent;\n",
              "      border-bottom-color: var(--fill-color);\n",
              "    }\n",
              "  }\n",
              "</style>\n",
              "\n",
              "  <script>\n",
              "    async function quickchart(key) {\n",
              "      const quickchartButtonEl =\n",
              "        document.querySelector('#' + key + ' button');\n",
              "      quickchartButtonEl.disabled = true;  // To prevent multiple clicks.\n",
              "      quickchartButtonEl.classList.add('colab-df-spinner');\n",
              "      try {\n",
              "        const charts = await google.colab.kernel.invokeFunction(\n",
              "            'suggestCharts', [key], {});\n",
              "      } catch (error) {\n",
              "        console.error('Error during call to suggestCharts:', error);\n",
              "      }\n",
              "      quickchartButtonEl.classList.remove('colab-df-spinner');\n",
              "      quickchartButtonEl.classList.add('colab-df-quickchart-complete');\n",
              "    }\n",
              "    (() => {\n",
              "      let quickchartButtonEl =\n",
              "        document.querySelector('#df-184496d2-2857-4e3d-9c5f-3bc69a99dd52 button');\n",
              "      quickchartButtonEl.style.display =\n",
              "        google.colab.kernel.accessAllowed ? 'block' : 'none';\n",
              "    })();\n",
              "  </script>\n",
              "</div>\n",
              "\n",
              "    </div>\n",
              "  </div>\n"
            ]
          },
          "metadata": {},
          "execution_count": 3
        }
      ]
    },
    {
      "cell_type": "code",
      "source": [
        "new_data = data_frame[['image_id','amd']]\n",
        "new_data.head()"
      ],
      "metadata": {
        "id": "sNWR_PwnRxiq",
        "colab": {
          "base_uri": "https://localhost:8080/",
          "height": 206
        },
        "outputId": "da213ad5-e4b7-4229-f5a3-4ce52594d2a0"
      },
      "execution_count": null,
      "outputs": [
        {
          "output_type": "execute_result",
          "data": {
            "text/plain": [
              "   image_id  amd\n",
              "0  img00001    0\n",
              "1  img00002    0\n",
              "2  img00003    0\n",
              "3  img00004    0\n",
              "4  img00005    0"
            ],
            "text/html": [
              "\n",
              "  <div id=\"df-9d99a4b6-777e-4709-8646-348cb12531eb\" class=\"colab-df-container\">\n",
              "    <div>\n",
              "<style scoped>\n",
              "    .dataframe tbody tr th:only-of-type {\n",
              "        vertical-align: middle;\n",
              "    }\n",
              "\n",
              "    .dataframe tbody tr th {\n",
              "        vertical-align: top;\n",
              "    }\n",
              "\n",
              "    .dataframe thead th {\n",
              "        text-align: right;\n",
              "    }\n",
              "</style>\n",
              "<table border=\"1\" class=\"dataframe\">\n",
              "  <thead>\n",
              "    <tr style=\"text-align: right;\">\n",
              "      <th></th>\n",
              "      <th>image_id</th>\n",
              "      <th>amd</th>\n",
              "    </tr>\n",
              "  </thead>\n",
              "  <tbody>\n",
              "    <tr>\n",
              "      <th>0</th>\n",
              "      <td>img00001</td>\n",
              "      <td>0</td>\n",
              "    </tr>\n",
              "    <tr>\n",
              "      <th>1</th>\n",
              "      <td>img00002</td>\n",
              "      <td>0</td>\n",
              "    </tr>\n",
              "    <tr>\n",
              "      <th>2</th>\n",
              "      <td>img00003</td>\n",
              "      <td>0</td>\n",
              "    </tr>\n",
              "    <tr>\n",
              "      <th>3</th>\n",
              "      <td>img00004</td>\n",
              "      <td>0</td>\n",
              "    </tr>\n",
              "    <tr>\n",
              "      <th>4</th>\n",
              "      <td>img00005</td>\n",
              "      <td>0</td>\n",
              "    </tr>\n",
              "  </tbody>\n",
              "</table>\n",
              "</div>\n",
              "    <div class=\"colab-df-buttons\">\n",
              "\n",
              "  <div class=\"colab-df-container\">\n",
              "    <button class=\"colab-df-convert\" onclick=\"convertToInteractive('df-9d99a4b6-777e-4709-8646-348cb12531eb')\"\n",
              "            title=\"Convert this dataframe to an interactive table.\"\n",
              "            style=\"display:none;\">\n",
              "\n",
              "  <svg xmlns=\"http://www.w3.org/2000/svg\" height=\"24px\" viewBox=\"0 -960 960 960\">\n",
              "    <path d=\"M120-120v-720h720v720H120Zm60-500h600v-160H180v160Zm220 220h160v-160H400v160Zm0 220h160v-160H400v160ZM180-400h160v-160H180v160Zm440 0h160v-160H620v160ZM180-180h160v-160H180v160Zm440 0h160v-160H620v160Z\"/>\n",
              "  </svg>\n",
              "    </button>\n",
              "\n",
              "  <style>\n",
              "    .colab-df-container {\n",
              "      display:flex;\n",
              "      gap: 12px;\n",
              "    }\n",
              "\n",
              "    .colab-df-convert {\n",
              "      background-color: #E8F0FE;\n",
              "      border: none;\n",
              "      border-radius: 50%;\n",
              "      cursor: pointer;\n",
              "      display: none;\n",
              "      fill: #1967D2;\n",
              "      height: 32px;\n",
              "      padding: 0 0 0 0;\n",
              "      width: 32px;\n",
              "    }\n",
              "\n",
              "    .colab-df-convert:hover {\n",
              "      background-color: #E2EBFA;\n",
              "      box-shadow: 0px 1px 2px rgba(60, 64, 67, 0.3), 0px 1px 3px 1px rgba(60, 64, 67, 0.15);\n",
              "      fill: #174EA6;\n",
              "    }\n",
              "\n",
              "    .colab-df-buttons div {\n",
              "      margin-bottom: 4px;\n",
              "    }\n",
              "\n",
              "    [theme=dark] .colab-df-convert {\n",
              "      background-color: #3B4455;\n",
              "      fill: #D2E3FC;\n",
              "    }\n",
              "\n",
              "    [theme=dark] .colab-df-convert:hover {\n",
              "      background-color: #434B5C;\n",
              "      box-shadow: 0px 1px 3px 1px rgba(0, 0, 0, 0.15);\n",
              "      filter: drop-shadow(0px 1px 2px rgba(0, 0, 0, 0.3));\n",
              "      fill: #FFFFFF;\n",
              "    }\n",
              "  </style>\n",
              "\n",
              "    <script>\n",
              "      const buttonEl =\n",
              "        document.querySelector('#df-9d99a4b6-777e-4709-8646-348cb12531eb button.colab-df-convert');\n",
              "      buttonEl.style.display =\n",
              "        google.colab.kernel.accessAllowed ? 'block' : 'none';\n",
              "\n",
              "      async function convertToInteractive(key) {\n",
              "        const element = document.querySelector('#df-9d99a4b6-777e-4709-8646-348cb12531eb');\n",
              "        const dataTable =\n",
              "          await google.colab.kernel.invokeFunction('convertToInteractive',\n",
              "                                                    [key], {});\n",
              "        if (!dataTable) return;\n",
              "\n",
              "        const docLinkHtml = 'Like what you see? Visit the ' +\n",
              "          '<a target=\"_blank\" href=https://colab.research.google.com/notebooks/data_table.ipynb>data table notebook</a>'\n",
              "          + ' to learn more about interactive tables.';\n",
              "        element.innerHTML = '';\n",
              "        dataTable['output_type'] = 'display_data';\n",
              "        await google.colab.output.renderOutput(dataTable, element);\n",
              "        const docLink = document.createElement('div');\n",
              "        docLink.innerHTML = docLinkHtml;\n",
              "        element.appendChild(docLink);\n",
              "      }\n",
              "    </script>\n",
              "  </div>\n",
              "\n",
              "\n",
              "<div id=\"df-4ec84cce-8be0-47f1-a473-71d041b3ea0f\">\n",
              "  <button class=\"colab-df-quickchart\" onclick=\"quickchart('df-4ec84cce-8be0-47f1-a473-71d041b3ea0f')\"\n",
              "            title=\"Suggest charts\"\n",
              "            style=\"display:none;\">\n",
              "\n",
              "<svg xmlns=\"http://www.w3.org/2000/svg\" height=\"24px\"viewBox=\"0 0 24 24\"\n",
              "     width=\"24px\">\n",
              "    <g>\n",
              "        <path d=\"M19 3H5c-1.1 0-2 .9-2 2v14c0 1.1.9 2 2 2h14c1.1 0 2-.9 2-2V5c0-1.1-.9-2-2-2zM9 17H7v-7h2v7zm4 0h-2V7h2v10zm4 0h-2v-4h2v4z\"/>\n",
              "    </g>\n",
              "</svg>\n",
              "  </button>\n",
              "\n",
              "<style>\n",
              "  .colab-df-quickchart {\n",
              "      --bg-color: #E8F0FE;\n",
              "      --fill-color: #1967D2;\n",
              "      --hover-bg-color: #E2EBFA;\n",
              "      --hover-fill-color: #174EA6;\n",
              "      --disabled-fill-color: #AAA;\n",
              "      --disabled-bg-color: #DDD;\n",
              "  }\n",
              "\n",
              "  [theme=dark] .colab-df-quickchart {\n",
              "      --bg-color: #3B4455;\n",
              "      --fill-color: #D2E3FC;\n",
              "      --hover-bg-color: #434B5C;\n",
              "      --hover-fill-color: #FFFFFF;\n",
              "      --disabled-bg-color: #3B4455;\n",
              "      --disabled-fill-color: #666;\n",
              "  }\n",
              "\n",
              "  .colab-df-quickchart {\n",
              "    background-color: var(--bg-color);\n",
              "    border: none;\n",
              "    border-radius: 50%;\n",
              "    cursor: pointer;\n",
              "    display: none;\n",
              "    fill: var(--fill-color);\n",
              "    height: 32px;\n",
              "    padding: 0;\n",
              "    width: 32px;\n",
              "  }\n",
              "\n",
              "  .colab-df-quickchart:hover {\n",
              "    background-color: var(--hover-bg-color);\n",
              "    box-shadow: 0 1px 2px rgba(60, 64, 67, 0.3), 0 1px 3px 1px rgba(60, 64, 67, 0.15);\n",
              "    fill: var(--button-hover-fill-color);\n",
              "  }\n",
              "\n",
              "  .colab-df-quickchart-complete:disabled,\n",
              "  .colab-df-quickchart-complete:disabled:hover {\n",
              "    background-color: var(--disabled-bg-color);\n",
              "    fill: var(--disabled-fill-color);\n",
              "    box-shadow: none;\n",
              "  }\n",
              "\n",
              "  .colab-df-spinner {\n",
              "    border: 2px solid var(--fill-color);\n",
              "    border-color: transparent;\n",
              "    border-bottom-color: var(--fill-color);\n",
              "    animation:\n",
              "      spin 1s steps(1) infinite;\n",
              "  }\n",
              "\n",
              "  @keyframes spin {\n",
              "    0% {\n",
              "      border-color: transparent;\n",
              "      border-bottom-color: var(--fill-color);\n",
              "      border-left-color: var(--fill-color);\n",
              "    }\n",
              "    20% {\n",
              "      border-color: transparent;\n",
              "      border-left-color: var(--fill-color);\n",
              "      border-top-color: var(--fill-color);\n",
              "    }\n",
              "    30% {\n",
              "      border-color: transparent;\n",
              "      border-left-color: var(--fill-color);\n",
              "      border-top-color: var(--fill-color);\n",
              "      border-right-color: var(--fill-color);\n",
              "    }\n",
              "    40% {\n",
              "      border-color: transparent;\n",
              "      border-right-color: var(--fill-color);\n",
              "      border-top-color: var(--fill-color);\n",
              "    }\n",
              "    60% {\n",
              "      border-color: transparent;\n",
              "      border-right-color: var(--fill-color);\n",
              "    }\n",
              "    80% {\n",
              "      border-color: transparent;\n",
              "      border-right-color: var(--fill-color);\n",
              "      border-bottom-color: var(--fill-color);\n",
              "    }\n",
              "    90% {\n",
              "      border-color: transparent;\n",
              "      border-bottom-color: var(--fill-color);\n",
              "    }\n",
              "  }\n",
              "</style>\n",
              "\n",
              "  <script>\n",
              "    async function quickchart(key) {\n",
              "      const quickchartButtonEl =\n",
              "        document.querySelector('#' + key + ' button');\n",
              "      quickchartButtonEl.disabled = true;  // To prevent multiple clicks.\n",
              "      quickchartButtonEl.classList.add('colab-df-spinner');\n",
              "      try {\n",
              "        const charts = await google.colab.kernel.invokeFunction(\n",
              "            'suggestCharts', [key], {});\n",
              "      } catch (error) {\n",
              "        console.error('Error during call to suggestCharts:', error);\n",
              "      }\n",
              "      quickchartButtonEl.classList.remove('colab-df-spinner');\n",
              "      quickchartButtonEl.classList.add('colab-df-quickchart-complete');\n",
              "    }\n",
              "    (() => {\n",
              "      let quickchartButtonEl =\n",
              "        document.querySelector('#df-4ec84cce-8be0-47f1-a473-71d041b3ea0f button');\n",
              "      quickchartButtonEl.style.display =\n",
              "        google.colab.kernel.accessAllowed ? 'block' : 'none';\n",
              "    })();\n",
              "  </script>\n",
              "</div>\n",
              "\n",
              "    </div>\n",
              "  </div>\n"
            ]
          },
          "metadata": {},
          "execution_count": 10
        }
      ]
    },
    {
      "cell_type": "code",
      "source": [
        "\n",
        "new_data['amd'].value_counts()"
      ],
      "metadata": {
        "id": "UpNVWIN_tFPR",
        "colab": {
          "base_uri": "https://localhost:8080/"
        },
        "outputId": "6ead6cf6-065d-4862-b16f-e95c8a490c4b"
      },
      "execution_count": null,
      "outputs": [
        {
          "output_type": "execute_result",
          "data": {
            "text/plain": [
              "0    15900\n",
              "1      366\n",
              "Name: amd, dtype: int64"
            ]
          },
          "metadata": {},
          "execution_count": 7
        }
      ]
    },
    {
      "cell_type": "code",
      "source": [
        "# downsampling all classes to lowest count of 2807 X 3 (synthesize 2x copies of minority class)\n",
        "class0_df = new_data[new_data['amd'] == 0].sample(n=366)\n",
        "class1_df = new_data[new_data['amd'] == 1]\n",
        "new_data = pd.concat([class0_df, class1_df])\n",
        "new_data.shape"
      ],
      "metadata": {
        "id": "DIk32AkWt9b5",
        "colab": {
          "base_uri": "https://localhost:8080/"
        },
        "outputId": "820f924f-e0ac-43d5-b504-928280c1ecaf"
      },
      "execution_count": null,
      "outputs": [
        {
          "output_type": "execute_result",
          "data": {
            "text/plain": [
              "(732, 2)"
            ]
          },
          "metadata": {},
          "execution_count": 11
        }
      ]
    },
    {
      "cell_type": "code",
      "source": [
        "new_data.head(1)"
      ],
      "metadata": {
        "id": "dA8o3f8-6NEs",
        "colab": {
          "base_uri": "https://localhost:8080/",
          "height": 81
        },
        "outputId": "3ff8b777-eec6-4f62-f1cc-f1ef93504c28"
      },
      "execution_count": null,
      "outputs": [
        {
          "output_type": "execute_result",
          "data": {
            "text/plain": [
              "      image_id  amd\n",
              "3904  img03905    0"
            ],
            "text/html": [
              "\n",
              "  <div id=\"df-1fe40ec1-102c-467b-87a2-1175a6e03f0f\" class=\"colab-df-container\">\n",
              "    <div>\n",
              "<style scoped>\n",
              "    .dataframe tbody tr th:only-of-type {\n",
              "        vertical-align: middle;\n",
              "    }\n",
              "\n",
              "    .dataframe tbody tr th {\n",
              "        vertical-align: top;\n",
              "    }\n",
              "\n",
              "    .dataframe thead th {\n",
              "        text-align: right;\n",
              "    }\n",
              "</style>\n",
              "<table border=\"1\" class=\"dataframe\">\n",
              "  <thead>\n",
              "    <tr style=\"text-align: right;\">\n",
              "      <th></th>\n",
              "      <th>image_id</th>\n",
              "      <th>amd</th>\n",
              "    </tr>\n",
              "  </thead>\n",
              "  <tbody>\n",
              "    <tr>\n",
              "      <th>3904</th>\n",
              "      <td>img03905</td>\n",
              "      <td>0</td>\n",
              "    </tr>\n",
              "  </tbody>\n",
              "</table>\n",
              "</div>\n",
              "    <div class=\"colab-df-buttons\">\n",
              "\n",
              "  <div class=\"colab-df-container\">\n",
              "    <button class=\"colab-df-convert\" onclick=\"convertToInteractive('df-1fe40ec1-102c-467b-87a2-1175a6e03f0f')\"\n",
              "            title=\"Convert this dataframe to an interactive table.\"\n",
              "            style=\"display:none;\">\n",
              "\n",
              "  <svg xmlns=\"http://www.w3.org/2000/svg\" height=\"24px\" viewBox=\"0 -960 960 960\">\n",
              "    <path d=\"M120-120v-720h720v720H120Zm60-500h600v-160H180v160Zm220 220h160v-160H400v160Zm0 220h160v-160H400v160ZM180-400h160v-160H180v160Zm440 0h160v-160H620v160ZM180-180h160v-160H180v160Zm440 0h160v-160H620v160Z\"/>\n",
              "  </svg>\n",
              "    </button>\n",
              "\n",
              "  <style>\n",
              "    .colab-df-container {\n",
              "      display:flex;\n",
              "      gap: 12px;\n",
              "    }\n",
              "\n",
              "    .colab-df-convert {\n",
              "      background-color: #E8F0FE;\n",
              "      border: none;\n",
              "      border-radius: 50%;\n",
              "      cursor: pointer;\n",
              "      display: none;\n",
              "      fill: #1967D2;\n",
              "      height: 32px;\n",
              "      padding: 0 0 0 0;\n",
              "      width: 32px;\n",
              "    }\n",
              "\n",
              "    .colab-df-convert:hover {\n",
              "      background-color: #E2EBFA;\n",
              "      box-shadow: 0px 1px 2px rgba(60, 64, 67, 0.3), 0px 1px 3px 1px rgba(60, 64, 67, 0.15);\n",
              "      fill: #174EA6;\n",
              "    }\n",
              "\n",
              "    .colab-df-buttons div {\n",
              "      margin-bottom: 4px;\n",
              "    }\n",
              "\n",
              "    [theme=dark] .colab-df-convert {\n",
              "      background-color: #3B4455;\n",
              "      fill: #D2E3FC;\n",
              "    }\n",
              "\n",
              "    [theme=dark] .colab-df-convert:hover {\n",
              "      background-color: #434B5C;\n",
              "      box-shadow: 0px 1px 3px 1px rgba(0, 0, 0, 0.15);\n",
              "      filter: drop-shadow(0px 1px 2px rgba(0, 0, 0, 0.3));\n",
              "      fill: #FFFFFF;\n",
              "    }\n",
              "  </style>\n",
              "\n",
              "    <script>\n",
              "      const buttonEl =\n",
              "        document.querySelector('#df-1fe40ec1-102c-467b-87a2-1175a6e03f0f button.colab-df-convert');\n",
              "      buttonEl.style.display =\n",
              "        google.colab.kernel.accessAllowed ? 'block' : 'none';\n",
              "\n",
              "      async function convertToInteractive(key) {\n",
              "        const element = document.querySelector('#df-1fe40ec1-102c-467b-87a2-1175a6e03f0f');\n",
              "        const dataTable =\n",
              "          await google.colab.kernel.invokeFunction('convertToInteractive',\n",
              "                                                    [key], {});\n",
              "        if (!dataTable) return;\n",
              "\n",
              "        const docLinkHtml = 'Like what you see? Visit the ' +\n",
              "          '<a target=\"_blank\" href=https://colab.research.google.com/notebooks/data_table.ipynb>data table notebook</a>'\n",
              "          + ' to learn more about interactive tables.';\n",
              "        element.innerHTML = '';\n",
              "        dataTable['output_type'] = 'display_data';\n",
              "        await google.colab.output.renderOutput(dataTable, element);\n",
              "        const docLink = document.createElement('div');\n",
              "        docLink.innerHTML = docLinkHtml;\n",
              "        element.appendChild(docLink);\n",
              "      }\n",
              "    </script>\n",
              "  </div>\n",
              "\n",
              "\n",
              "    </div>\n",
              "  </div>\n"
            ]
          },
          "metadata": {},
          "execution_count": 12
        }
      ]
    },
    {
      "cell_type": "code",
      "source": [
        "import shutil\n",
        "import os\n",
        "from tqdm import tqdm\n",
        "\n",
        "# specify directory to move images to\n",
        "source_directory = \"/content/drive/MyDrive/Tempdata/a-brazilian-multilabel-ophthalmological-dataset-brset-1.0.0/fundus_photos\"\n",
        "data_dir = \"/content/drive/MyDrive/amd\"\n",
        "\n",
        "if not os.path.exists(data_dir):\n",
        "    os.makedirs(data_dir)\n",
        "\n",
        "# make class files\n",
        "num_classes = new_data['amd'].nunique()\n",
        "class_directories = {}\n",
        "\n",
        "for i in range(num_classes):\n",
        "  class_directory = os.path.join(data_dir, str(i))\n",
        "  os.makedirs(class_directory, exist_ok=True)\n",
        "  class_directories[i] = class_directory\n",
        "\n",
        "for i in tqdm(range(len(new_data))):\n",
        "  # get filename\n",
        "  file_name = new_data['image_id'].iloc[i] + \".jpg\"\n",
        "  source = os.path.join(source_directory, file_name)\n",
        "\n",
        "  # check if file exists\n",
        "  if os.path.exists(source):\n",
        "    # check label and move to appropriate directory\n",
        "    class_label = new_data['amd'].iloc[i]\n",
        "    target_directory = class_directories[class_label]\n",
        "    shutil.copy(source, target_directory)\n",
        "    #if class_label == 0:\n",
        "      #shutil.copy(source, target_directory)\n",
        "    #elif class_label == 1:\n",
        "      #shutil.copy(source, target_directory)\n",
        "      #shutil.copy(source, os.path.join(target_directory, new_data['image_id'].iloc[i] + \"_1.jpg\"))\n",
        "      #shutil.copy(source, os.path.join(target_directory, new_data['image_id'].iloc[i] + \"_2.jpg\"))"
      ],
      "metadata": {
        "id": "tEzvF4Rf0V8B",
        "colab": {
          "base_uri": "https://localhost:8080/"
        },
        "outputId": "9da0273e-8883-47c3-c448-381ff1daff65"
      },
      "execution_count": null,
      "outputs": [
        {
          "output_type": "stream",
          "name": "stderr",
          "text": [
            "100%|██████████| 732/732 [10:15<00:00,  1.19it/s]\n"
          ]
        }
      ]
    },
    {
      "cell_type": "code",
      "source": [
        "import os\n",
        "for dir in os.listdir(data_dir):\n",
        "  print(dir, len(os.listdir(os.path.join(data_dir, dir))))"
      ],
      "metadata": {
        "colab": {
          "base_uri": "https://localhost:8080/"
        },
        "id": "LDMCd2Hnjzdp",
        "outputId": "0fc49203-66c9-4c8b-9f0a-534e0aa1f3ce"
      },
      "execution_count": null,
      "outputs": [
        {
          "output_type": "stream",
          "name": "stdout",
          "text": [
            "0 325\n",
            "1 358\n"
          ]
        }
      ]
    },
    {
      "cell_type": "code",
      "source": [
        "# Data preparation\n",
        "from tqdm import tqdm\n",
        "import tensorflow as tf\n",
        "import numpy as np\n",
        "from sklearn.utils.class_weight import compute_class_weight\n",
        "from tensorflow.keras import layers\n",
        "from tensorflow.keras.models import Sequential\n",
        "\n",
        "# Define the size of your images and batch size\n",
        "img_height = 224\n",
        "img_width = 224\n",
        "batch_size = 32\n",
        "\n",
        "if num_classes <= 2:\n",
        "  label_mode = 'binary'\n",
        "else:\n",
        "  label_mode = 'categorical'\n",
        "\n",
        "# Function to extract labels from the dataset\n",
        "def get_labels(dataset):\n",
        "      labels = np.concatenate([y.numpy() for x, y in tqdm(dataset)], axis=0)\n",
        "      return labels\n",
        "\n",
        "# Train/test split\n",
        "train_ds = tf.keras.utils.image_dataset_from_directory(\n",
        "  '/content/drive/MyDrive/amd',\n",
        "  validation_split=0.2,\n",
        "  subset=\"training\",\n",
        "  seed=123,\n",
        "  image_size=(img_height, img_width),\n",
        "  label_mode=label_mode,\n",
        "  batch_size=batch_size)\n",
        "\n",
        "val_ds = tf.keras.utils.image_dataset_from_directory(\n",
        "  '/content/drive/MyDrive/amd',\n",
        "  validation_split=0.2,\n",
        "  subset=\"validation\",\n",
        "  seed=123,\n",
        "  label_mode=label_mode,\n",
        "  image_size=(img_height, img_width),\n",
        "  batch_size=batch_size)\n",
        "\n",
        "# Define the augmentation layer\n",
        "data_augmentation = Sequential([\n",
        "  layers.RandomFlip(\"horizontal_and_vertical\"),\n",
        "  layers.RandomRotation(0.2),\n",
        "  layers.RandomContrast(0.1),\n",
        "  layers.RandomZoom(0.1),\n",
        "  layers.RandomHeight(0.1),\n",
        "  layers.RandomWidth(0.1),\n",
        "  layers.RandomBrightness(0.1),\n",
        "  layers.RandomTranslation(0.1, 0.1),\n",
        "])\n",
        "\n",
        "augmented_train_ds = train_ds.map(lambda x, y: (data_augmentation(x, training=True), y))\n",
        "\n",
        "AUTOTUNE = tf.data.experimental.AUTOTUNE if hasattr(tf.data, 'experimental') else tf.data.AUTOTUNE\n",
        "\n",
        "augmented_train_ds = augmented_train_ds.cache().prefetch(buffer_size=AUTOTUNE)\n",
        "val_ds = val_ds.cache().prefetch(buffer_size=AUTOTUNE)\n",
        "\n",
        "# Create a normalization layer and apply it to the training and validation datasets\n",
        "normalization_layer = layers.Rescaling(1./255)\n",
        "\n",
        "normalized_train_ds = augmented_train_ds.map(lambda x, y: (normalization_layer(x), y))\n",
        "normalized_val_ds = val_ds.map(lambda x, y: (normalization_layer(x), y))\n"
      ],
      "metadata": {
        "id": "UoZTtgHzmTBx",
        "colab": {
          "base_uri": "https://localhost:8080/"
        },
        "outputId": "8d9184cd-98db-4c94-fbca-b4f114a9251f"
      },
      "execution_count": null,
      "outputs": [
        {
          "output_type": "stream",
          "name": "stdout",
          "text": [
            "Found 683 files belonging to 2 classes.\n",
            "Using 547 files for training.\n",
            "Found 683 files belonging to 2 classes.\n",
            "Using 136 files for validation.\n"
          ]
        }
      ]
    },
    {
      "cell_type": "code",
      "source": [
        "# Mobilnet\n",
        "import tensorflow as tf\n",
        "from tensorflow import keras\n",
        "from tensorflow.keras.layers import GlobalAveragePooling2D, Dense, Dropout\n",
        "from tensorflow.keras.models import Model\n",
        "from tensorflow.keras.optimizers import Adam\n",
        "from tensorflow.keras.callbacks import EarlyStopping, ModelCheckpoint, TensorBoard\n",
        "from tensorflow.keras.models import Sequential\n",
        "import datetime\n",
        "\n",
        "# HYPERPARAMETERS\n",
        "INPUT_SHAPE = (224, 224, 3)\n",
        "LR = 4e-5\n",
        "DROPOUT = .25\n",
        "TRANSFER_DROPOUT = .25\n",
        "ALPHA = 1\n",
        "BATCH_SIZE = 32\n",
        "NUM_FREEZE = 80\n",
        "NUM_EPOCHS = 30\n",
        "\n",
        "\n",
        "def get_lr_metric(optimizer): # used for debugging\n",
        "    def lr(y_true, y_pred):\n",
        "        return optimizer.lr\n",
        "    return lr\n",
        "\n",
        "#Callbacks\n",
        "\n",
        "# Set up TensorBoard callback\n",
        "log_dir = \"logs/fit/\" + datetime.datetime.now().strftime(\"%Y%m%d-%H%M%S\")\n",
        "tensorboard_callback = TensorBoard(log_dir=log_dir, histogram_freq=1)\n",
        "\n",
        "# Early Stopping callback\n",
        "early_stopping = EarlyStopping(\n",
        "    monitor='val_recall',  # Monitor validation loss\n",
        "    patience=15,         # Number of epochs with no improvement after which training will be stopped\n",
        "    restore_best_weights=True  # Restores model weights from the epoch with the best value of the monitored metric\n",
        ")\n",
        "\n",
        "# Model Checkpoint callback\n",
        "model_checkpoint = ModelCheckpoint(\n",
        "    '/content/drive/MyDrive/Model/amd_model.h5',   # Path where to save the model\n",
        "    monitor='val_recall',  # Monitor validation loss\n",
        "    save_best_only=True  # Only save the best model\n",
        ")\n",
        "\n",
        "\n",
        "def MobileNet(num_freeze, num_classes, **kwargs):\n",
        "    base_model = tf.keras.applications.MobileNet(input_shape=INPUT_SHAPE, weights='imagenet', include_top=False, **kwargs)\n",
        "    for i in range(num_freeze):\n",
        "      base_model.layers[i].trainable = False\n",
        "\n",
        "    model= tf.keras.Sequential([\n",
        "        base_model,\n",
        "        GlobalAveragePooling2D(),\n",
        "        Dense(1024, activation='relu'),\n",
        "        Dropout(DROPOUT),\n",
        "        Dense(512, activation='relu'),\n",
        "        Dropout(DROPOUT),\n",
        "        Dense(256, activation='relu'),\n",
        "    ])\n",
        "    if num_classes <= 2:\n",
        "        model.add(Dense(1, activation='sigmoid'))\n",
        "    else:\n",
        "        model.add(Dense(num_classes, activation='softmax'))\n",
        "    return model\n"
      ],
      "metadata": {
        "id": "jZrJnIgX0r6W"
      },
      "execution_count": null,
      "outputs": []
    },
    {
      "cell_type": "code",
      "source": [
        "# Compile the model\n",
        "model = MobileNet(num_freeze=NUM_FREEZE, num_classes=num_classes, dropout=TRANSFER_DROPOUT, alpha=ALPHA)\n",
        "optimizer = Adam(learning_rate=LR)\n",
        "if num_classes <= 2:\n",
        "    loss = 'binary_crossentropy'\n",
        "else:\n",
        "    loss = 'categorical_crossentropy'\n",
        "\n",
        "model.compile(\n",
        "    optimizer=optimizer,\n",
        "    loss=loss,\n",
        "    metrics=[\n",
        "        tf.keras.metrics.Precision(),\n",
        "        tf.keras.metrics.Recall(),\n",
        "        tf.keras.metrics.AUC(),\n",
        "    ]\n",
        ")"
      ],
      "metadata": {
        "id": "9ei8C1dH0z46"
      },
      "execution_count": null,
      "outputs": []
    },
    {
      "cell_type": "code",
      "source": [
        "model.summary()"
      ],
      "metadata": {
        "id": "bTBKJS2_w_gX",
        "colab": {
          "base_uri": "https://localhost:8080/"
        },
        "outputId": "6adac3c9-661a-4da2-b91c-dbb23b30f5d1"
      },
      "execution_count": null,
      "outputs": [
        {
          "output_type": "stream",
          "name": "stdout",
          "text": [
            "Model: \"sequential_1\"\n",
            "_________________________________________________________________\n",
            " Layer (type)                Output Shape              Param #   \n",
            "=================================================================\n",
            " mobilenet_1.00_224 (Functi  (None, 7, 7, 1024)        3228864   \n",
            " onal)                                                           \n",
            "                                                                 \n",
            " global_average_pooling2d (  (None, 1024)              0         \n",
            " GlobalAveragePooling2D)                                         \n",
            "                                                                 \n",
            " dense (Dense)               (None, 1024)              1049600   \n",
            "                                                                 \n",
            " dropout (Dropout)           (None, 1024)              0         \n",
            "                                                                 \n",
            " dense_1 (Dense)             (None, 512)               524800    \n",
            "                                                                 \n",
            " dropout_1 (Dropout)         (None, 512)               0         \n",
            "                                                                 \n",
            " dense_2 (Dense)             (None, 256)               131328    \n",
            "                                                                 \n",
            " dense_3 (Dense)             (None, 1)                 257       \n",
            "                                                                 \n",
            "=================================================================\n",
            "Total params: 4934849 (18.82 MB)\n",
            "Trainable params: 2767873 (10.56 MB)\n",
            "Non-trainable params: 2166976 (8.27 MB)\n",
            "_________________________________________________________________\n"
          ]
        }
      ]
    },
    {
      "cell_type": "code",
      "source": [
        "# Fit the model with callbacks\n",
        "history = model.fit(\n",
        "    normalized_train_ds,\n",
        "    validation_data=normalized_val_ds,\n",
        "    epochs=NUM_EPOCHS,\n",
        "    verbose=True,\n",
        "    class_weight=None,\n",
        "    callbacks=[early_stopping, model_checkpoint,tensorboard_callback]  # Add callbacks here\n",
        ")"
      ],
      "metadata": {
        "colab": {
          "base_uri": "https://localhost:8080/"
        },
        "id": "WNzq4bHEHsuW",
        "outputId": "3a2486be-fb69-43ce-c03f-66f0573411f5"
      },
      "execution_count": null,
      "outputs": [
        {
          "output_type": "stream",
          "name": "stdout",
          "text": [
            "Epoch 1/30\n",
            "17/18 [===========================>..] - ETA: 0s - loss: 0.7018 - precision_1: 0.5632 - recall_1: 0.5493 - auc_1: 0.5676"
          ]
        },
        {
          "output_type": "stream",
          "name": "stderr",
          "text": [
            "WARNING:tensorflow:Early stopping conditioned on metric `val_recall` which is not available. Available metrics are: loss,precision_1,recall_1,auc_1,val_loss,val_precision_1,val_recall_1,val_auc_1\n",
            "WARNING:tensorflow:Can save best model only with val_recall available, skipping.\n"
          ]
        },
        {
          "output_type": "stream",
          "name": "stdout",
          "text": [
            "\b\b\b\b\b\b\b\b\b\b\b\b\b\b\b\b\b\b\b\b\b\b\b\b\b\b\b\b\b\b\b\b\b\b\b\b\b\b\b\b\b\b\b\b\b\b\b\b\b\b\b\b\b\b\b\b\b\b\b\b\b\b\b\b\b\b\b\b\b\b\b\b\b\b\b\b\b\b\b\b\b\b\b\b\b\b\b\b\b\b\b\b\b\b\b\b\b\b\b\b\b\b\b\b\b\b\b\b\b\b\b\b\b\b\b\b\b\b\b\b\r18/18 [==============================] - 6s 152ms/step - loss: 0.7010 - precision_1: 0.5663 - recall_1: 0.5505 - auc_1: 0.5692 - val_loss: 0.6646 - val_precision_1: 0.5645 - val_recall_1: 0.9859 - val_auc_1: 0.6850\n",
            "Epoch 2/30\n",
            "17/18 [===========================>..] - ETA: 0s - loss: 0.6011 - precision_1: 0.6602 - recall_1: 0.8415 - auc_1: 0.7675"
          ]
        },
        {
          "output_type": "stream",
          "name": "stderr",
          "text": [
            "WARNING:tensorflow:Early stopping conditioned on metric `val_recall` which is not available. Available metrics are: loss,precision_1,recall_1,auc_1,val_loss,val_precision_1,val_recall_1,val_auc_1\n",
            "WARNING:tensorflow:Can save best model only with val_recall available, skipping.\n"
          ]
        },
        {
          "output_type": "stream",
          "name": "stdout",
          "text": [
            "\b\b\b\b\b\b\b\b\b\b\b\b\b\b\b\b\b\b\b\b\b\b\b\b\b\b\b\b\b\b\b\b\b\b\b\b\b\b\b\b\b\b\b\b\b\b\b\b\b\b\b\b\b\b\b\b\b\b\b\b\b\b\b\b\b\b\b\b\b\b\b\b\b\b\b\b\b\b\b\b\b\b\b\b\b\b\b\b\b\b\b\b\b\b\b\b\b\b\b\b\b\b\b\b\b\b\b\b\b\b\b\b\b\b\b\b\b\b\b\b\r18/18 [==============================] - 2s 113ms/step - loss: 0.6007 - precision_1: 0.6630 - recall_1: 0.8432 - auc_1: 0.7677 - val_loss: 0.6079 - val_precision_1: 0.7833 - val_recall_1: 0.6620 - val_auc_1: 0.7910\n",
            "Epoch 3/30\n",
            "17/18 [===========================>..] - ETA: 0s - loss: 0.5353 - precision_1: 0.7420 - recall_1: 0.8204 - auc_1: 0.8448"
          ]
        },
        {
          "output_type": "stream",
          "name": "stderr",
          "text": [
            "WARNING:tensorflow:Early stopping conditioned on metric `val_recall` which is not available. Available metrics are: loss,precision_1,recall_1,auc_1,val_loss,val_precision_1,val_recall_1,val_auc_1\n",
            "WARNING:tensorflow:Can save best model only with val_recall available, skipping.\n"
          ]
        },
        {
          "output_type": "stream",
          "name": "stdout",
          "text": [
            "\b\b\b\b\b\b\b\b\b\b\b\b\b\b\b\b\b\b\b\b\b\b\b\b\b\b\b\b\b\b\b\b\b\b\b\b\b\b\b\b\b\b\b\b\b\b\b\b\b\b\b\b\b\b\b\b\b\b\b\b\b\b\b\b\b\b\b\b\b\b\b\b\b\b\b\b\b\b\b\b\b\b\b\b\b\b\b\b\b\b\b\b\b\b\b\b\b\b\b\b\b\b\b\b\b\b\b\b\b\b\b\b\b\b\b\b\b\b\b\b\r18/18 [==============================] - 2s 112ms/step - loss: 0.5357 - precision_1: 0.7429 - recall_1: 0.8153 - auc_1: 0.8438 - val_loss: 0.5671 - val_precision_1: 0.7941 - val_recall_1: 0.7606 - val_auc_1: 0.8135\n",
            "Epoch 4/30\n",
            "17/18 [===========================>..] - ETA: 0s - loss: 0.4725 - precision_1: 0.7891 - recall_1: 0.8697 - auc_1: 0.8847"
          ]
        },
        {
          "output_type": "stream",
          "name": "stderr",
          "text": [
            "WARNING:tensorflow:Early stopping conditioned on metric `val_recall` which is not available. Available metrics are: loss,precision_1,recall_1,auc_1,val_loss,val_precision_1,val_recall_1,val_auc_1\n",
            "WARNING:tensorflow:Can save best model only with val_recall available, skipping.\n"
          ]
        },
        {
          "output_type": "stream",
          "name": "stdout",
          "text": [
            "\b\b\b\b\b\b\b\b\b\b\b\b\b\b\b\b\b\b\b\b\b\b\b\b\b\b\b\b\b\b\b\b\b\b\b\b\b\b\b\b\b\b\b\b\b\b\b\b\b\b\b\b\b\b\b\b\b\b\b\b\b\b\b\b\b\b\b\b\b\b\b\b\b\b\b\b\b\b\b\b\b\b\b\b\b\b\b\b\b\b\b\b\b\b\b\b\b\b\b\b\b\b\b\b\b\b\b\b\b\b\b\b\b\b\b\b\b\b\b\b\r18/18 [==============================] - 2s 114ms/step - loss: 0.4726 - precision_1: 0.7905 - recall_1: 0.8676 - auc_1: 0.8840 - val_loss: 0.5396 - val_precision_1: 0.8197 - val_recall_1: 0.7042 - val_auc_1: 0.8229\n",
            "Epoch 5/30\n",
            "17/18 [===========================>..] - ETA: 0s - loss: 0.4385 - precision_1: 0.8045 - recall_1: 0.8838 - auc_1: 0.8996"
          ]
        },
        {
          "output_type": "stream",
          "name": "stderr",
          "text": [
            "WARNING:tensorflow:Early stopping conditioned on metric `val_recall` which is not available. Available metrics are: loss,precision_1,recall_1,auc_1,val_loss,val_precision_1,val_recall_1,val_auc_1\n",
            "WARNING:tensorflow:Can save best model only with val_recall available, skipping.\n"
          ]
        },
        {
          "output_type": "stream",
          "name": "stdout",
          "text": [
            "\b\b\b\b\b\b\b\b\b\b\b\b\b\b\b\b\b\b\b\b\b\b\b\b\b\b\b\b\b\b\b\b\b\b\b\b\b\b\b\b\b\b\b\b\b\b\b\b\b\b\b\b\b\b\b\b\b\b\b\b\b\b\b\b\b\b\b\b\b\b\b\b\b\b\b\b\b\b\b\b\b\b\b\b\b\b\b\b\b\b\b\b\b\b\b\b\b\b\b\b\b\b\b\b\b\b\b\b\b\b\b\b\b\b\b\b\b\b\b\b\r18/18 [==============================] - 2s 114ms/step - loss: 0.4373 - precision_1: 0.8063 - recall_1: 0.8850 - auc_1: 0.9004 - val_loss: 0.5252 - val_precision_1: 0.8136 - val_recall_1: 0.6761 - val_auc_1: 0.8307\n",
            "Epoch 6/30\n",
            "17/18 [===========================>..] - ETA: 0s - loss: 0.3934 - precision_1: 0.8390 - recall_1: 0.8627 - auc_1: 0.9150"
          ]
        },
        {
          "output_type": "stream",
          "name": "stderr",
          "text": [
            "WARNING:tensorflow:Early stopping conditioned on metric `val_recall` which is not available. Available metrics are: loss,precision_1,recall_1,auc_1,val_loss,val_precision_1,val_recall_1,val_auc_1\n",
            "WARNING:tensorflow:Can save best model only with val_recall available, skipping.\n"
          ]
        },
        {
          "output_type": "stream",
          "name": "stdout",
          "text": [
            "\b\b\b\b\b\b\b\b\b\b\b\b\b\b\b\b\b\b\b\b\b\b\b\b\b\b\b\b\b\b\b\b\b\b\b\b\b\b\b\b\b\b\b\b\b\b\b\b\b\b\b\b\b\b\b\b\b\b\b\b\b\b\b\b\b\b\b\b\b\b\b\b\b\b\b\b\b\b\b\b\b\b\b\b\b\b\b\b\b\b\b\b\b\b\b\b\b\b\b\b\b\b\b\b\b\b\b\b\b\b\b\b\b\b\b\b\b\b\b\b\r18/18 [==============================] - 2s 111ms/step - loss: 0.3935 - precision_1: 0.8401 - recall_1: 0.8606 - auc_1: 0.9149 - val_loss: 0.5003 - val_precision_1: 0.7969 - val_recall_1: 0.7183 - val_auc_1: 0.8404\n",
            "Epoch 7/30\n",
            "17/18 [===========================>..] - ETA: 0s - loss: 0.3554 - precision_1: 0.8444 - recall_1: 0.8979 - auc_1: 0.9356"
          ]
        },
        {
          "output_type": "stream",
          "name": "stderr",
          "text": [
            "WARNING:tensorflow:Early stopping conditioned on metric `val_recall` which is not available. Available metrics are: loss,precision_1,recall_1,auc_1,val_loss,val_precision_1,val_recall_1,val_auc_1\n",
            "WARNING:tensorflow:Can save best model only with val_recall available, skipping.\n"
          ]
        },
        {
          "output_type": "stream",
          "name": "stdout",
          "text": [
            "\b\b\b\b\b\b\b\b\b\b\b\b\b\b\b\b\b\b\b\b\b\b\b\b\b\b\b\b\b\b\b\b\b\b\b\b\b\b\b\b\b\b\b\b\b\b\b\b\b\b\b\b\b\b\b\b\b\b\b\b\b\b\b\b\b\b\b\b\b\b\b\b\b\b\b\b\b\b\b\b\b\b\b\b\b\b\b\b\b\b\b\b\b\b\b\b\b\b\b\b\b\b\b\b\b\b\b\b\b\b\b\b\b\b\b\b\b\b\b\b\r18/18 [==============================] - 2s 112ms/step - loss: 0.3542 - precision_1: 0.8459 - recall_1: 0.8990 - auc_1: 0.9361 - val_loss: 0.4885 - val_precision_1: 0.7969 - val_recall_1: 0.7183 - val_auc_1: 0.8489\n",
            "Epoch 8/30\n",
            "17/18 [===========================>..] - ETA: 0s - loss: 0.3052 - precision_1: 0.9014 - recall_1: 0.9014 - auc_1: 0.9562"
          ]
        },
        {
          "output_type": "stream",
          "name": "stderr",
          "text": [
            "WARNING:tensorflow:Early stopping conditioned on metric `val_recall` which is not available. Available metrics are: loss,precision_1,recall_1,auc_1,val_loss,val_precision_1,val_recall_1,val_auc_1\n",
            "WARNING:tensorflow:Can save best model only with val_recall available, skipping.\n"
          ]
        },
        {
          "output_type": "stream",
          "name": "stdout",
          "text": [
            "\b\b\b\b\b\b\b\b\b\b\b\b\b\b\b\b\b\b\b\b\b\b\b\b\b\b\b\b\b\b\b\b\b\b\b\b\b\b\b\b\b\b\b\b\b\b\b\b\b\b\b\b\b\b\b\b\b\b\b\b\b\b\b\b\b\b\b\b\b\b\b\b\b\b\b\b\b\b\b\b\b\b\b\b\b\b\b\b\b\b\b\b\b\b\b\b\b\b\b\b\b\b\b\b\b\b\b\b\b\b\b\b\b\b\b\b\b\b\b\b\r18/18 [==============================] - 2s 111ms/step - loss: 0.3046 - precision_1: 0.9024 - recall_1: 0.9024 - auc_1: 0.9565 - val_loss: 0.4752 - val_precision_1: 0.7941 - val_recall_1: 0.7606 - val_auc_1: 0.8545\n",
            "Epoch 9/30\n",
            "17/18 [===========================>..] - ETA: 0s - loss: 0.2641 - precision_1: 0.8885 - recall_1: 0.9261 - auc_1: 0.9712"
          ]
        },
        {
          "output_type": "stream",
          "name": "stderr",
          "text": [
            "WARNING:tensorflow:Early stopping conditioned on metric `val_recall` which is not available. Available metrics are: loss,precision_1,recall_1,auc_1,val_loss,val_precision_1,val_recall_1,val_auc_1\n",
            "WARNING:tensorflow:Can save best model only with val_recall available, skipping.\n"
          ]
        },
        {
          "output_type": "stream",
          "name": "stdout",
          "text": [
            "\b\b\b\b\b\b\b\b\b\b\b\b\b\b\b\b\b\b\b\b\b\b\b\b\b\b\b\b\b\b\b\b\b\b\b\b\b\b\b\b\b\b\b\b\b\b\b\b\b\b\b\b\b\b\b\b\b\b\b\b\b\b\b\b\b\b\b\b\b\b\b\b\b\b\b\b\b\b\b\b\b\b\b\b\b\b\b\b\b\b\b\b\b\b\b\b\b\b\b\b\b\b\b\b\b\b\b\b\b\b\b\b\b\b\b\b\b\b\b\b\r18/18 [==============================] - 2s 112ms/step - loss: 0.2640 - precision_1: 0.8896 - recall_1: 0.9268 - auc_1: 0.9712 - val_loss: 0.4741 - val_precision_1: 0.8000 - val_recall_1: 0.7324 - val_auc_1: 0.8569\n",
            "Epoch 10/30\n",
            "17/18 [===========================>..] - ETA: 0s - loss: 0.2265 - precision_1: 0.9296 - recall_1: 0.9296 - auc_1: 0.9823"
          ]
        },
        {
          "output_type": "stream",
          "name": "stderr",
          "text": [
            "WARNING:tensorflow:Early stopping conditioned on metric `val_recall` which is not available. Available metrics are: loss,precision_1,recall_1,auc_1,val_loss,val_precision_1,val_recall_1,val_auc_1\n",
            "WARNING:tensorflow:Can save best model only with val_recall available, skipping.\n"
          ]
        },
        {
          "output_type": "stream",
          "name": "stdout",
          "text": [
            "\b\b\b\b\b\b\b\b\b\b\b\b\b\b\b\b\b\b\b\b\b\b\b\b\b\b\b\b\b\b\b\b\b\b\b\b\b\b\b\b\b\b\b\b\b\b\b\b\b\b\b\b\b\b\b\b\b\b\b\b\b\b\b\b\b\b\b\b\b\b\b\b\b\b\b\b\b\b\b\b\b\b\b\b\b\b\b\b\b\b\b\b\b\b\b\b\b\b\b\b\b\b\b\b\b\b\b\b\b\b\b\b\b\b\b\b\b\b\b\b\r18/18 [==============================] - 2s 114ms/step - loss: 0.2260 - precision_1: 0.9303 - recall_1: 0.9303 - auc_1: 0.9824 - val_loss: 0.4768 - val_precision_1: 0.7969 - val_recall_1: 0.7183 - val_auc_1: 0.8603\n",
            "Epoch 11/30\n",
            "17/18 [===========================>..] - ETA: 0s - loss: 0.2037 - precision_1: 0.9399 - recall_1: 0.9366 - auc_1: 0.9852"
          ]
        },
        {
          "output_type": "stream",
          "name": "stderr",
          "text": [
            "WARNING:tensorflow:Early stopping conditioned on metric `val_recall` which is not available. Available metrics are: loss,precision_1,recall_1,auc_1,val_loss,val_precision_1,val_recall_1,val_auc_1\n",
            "WARNING:tensorflow:Can save best model only with val_recall available, skipping.\n"
          ]
        },
        {
          "output_type": "stream",
          "name": "stdout",
          "text": [
            "\b\b\b\b\b\b\b\b\b\b\b\b\b\b\b\b\b\b\b\b\b\b\b\b\b\b\b\b\b\b\b\b\b\b\b\b\b\b\b\b\b\b\b\b\b\b\b\b\b\b\b\b\b\b\b\b\b\b\b\b\b\b\b\b\b\b\b\b\b\b\b\b\b\b\b\b\b\b\b\b\b\b\b\b\b\b\b\b\b\b\b\b\b\b\b\b\b\b\b\b\b\b\b\b\b\b\b\b\b\b\b\b\b\b\b\b\b\b\b\b\r18/18 [==============================] - 2s 113ms/step - loss: 0.2029 - precision_1: 0.9406 - recall_1: 0.9373 - auc_1: 0.9853 - val_loss: 0.4648 - val_precision_1: 0.7534 - val_recall_1: 0.7746 - val_auc_1: 0.8650\n",
            "Epoch 12/30\n",
            "17/18 [===========================>..] - ETA: 0s - loss: 0.1618 - precision_1: 0.9483 - recall_1: 0.9683 - auc_1: 0.9936"
          ]
        },
        {
          "output_type": "stream",
          "name": "stderr",
          "text": [
            "WARNING:tensorflow:Early stopping conditioned on metric `val_recall` which is not available. Available metrics are: loss,precision_1,recall_1,auc_1,val_loss,val_precision_1,val_recall_1,val_auc_1\n",
            "WARNING:tensorflow:Can save best model only with val_recall available, skipping.\n"
          ]
        },
        {
          "output_type": "stream",
          "name": "stdout",
          "text": [
            "\b\b\b\b\b\b\b\b\b\b\b\b\b\b\b\b\b\b\b\b\b\b\b\b\b\b\b\b\b\b\b\b\b\b\b\b\b\b\b\b\b\b\b\b\b\b\b\b\b\b\b\b\b\b\b\b\b\b\b\b\b\b\b\b\b\b\b\b\b\b\b\b\b\b\b\b\b\b\b\b\b\b\b\b\b\b\b\b\b\b\b\b\b\b\b\b\b\b\b\b\b\b\b\b\b\b\b\b\b\b\b\b\b\b\b\b\b\b\b\b\r18/18 [==============================] - 2s 111ms/step - loss: 0.1611 - precision_1: 0.9488 - recall_1: 0.9686 - auc_1: 0.9937 - val_loss: 0.4695 - val_precision_1: 0.7971 - val_recall_1: 0.7746 - val_auc_1: 0.8659\n",
            "Epoch 13/30\n",
            "17/18 [===========================>..] - ETA: 0s - loss: 0.1342 - precision_1: 0.9682 - recall_1: 0.9648 - auc_1: 0.9964"
          ]
        },
        {
          "output_type": "stream",
          "name": "stderr",
          "text": [
            "WARNING:tensorflow:Early stopping conditioned on metric `val_recall` which is not available. Available metrics are: loss,precision_1,recall_1,auc_1,val_loss,val_precision_1,val_recall_1,val_auc_1\n",
            "WARNING:tensorflow:Can save best model only with val_recall available, skipping.\n"
          ]
        },
        {
          "output_type": "stream",
          "name": "stdout",
          "text": [
            "\b\b\b\b\b\b\b\b\b\b\b\b\b\b\b\b\b\b\b\b\b\b\b\b\b\b\b\b\b\b\b\b\b\b\b\b\b\b\b\b\b\b\b\b\b\b\b\b\b\b\b\b\b\b\b\b\b\b\b\b\b\b\b\b\b\b\b\b\b\b\b\b\b\b\b\b\b\b\b\b\b\b\b\b\b\b\b\b\b\b\b\b\b\b\b\b\b\b\b\b\b\b\b\b\b\b\b\b\b\b\b\b\b\b\b\b\b\b\b\b\r18/18 [==============================] - 2s 111ms/step - loss: 0.1338 - precision_1: 0.9685 - recall_1: 0.9652 - auc_1: 0.9965 - val_loss: 0.4816 - val_precision_1: 0.7714 - val_recall_1: 0.7606 - val_auc_1: 0.8673\n",
            "Epoch 14/30\n",
            "17/18 [===========================>..] - ETA: 0s - loss: 0.1234 - precision_1: 0.9754 - recall_1: 0.9789 - auc_1: 0.9974"
          ]
        },
        {
          "output_type": "stream",
          "name": "stderr",
          "text": [
            "WARNING:tensorflow:Early stopping conditioned on metric `val_recall` which is not available. Available metrics are: loss,precision_1,recall_1,auc_1,val_loss,val_precision_1,val_recall_1,val_auc_1\n",
            "WARNING:tensorflow:Can save best model only with val_recall available, skipping.\n"
          ]
        },
        {
          "output_type": "stream",
          "name": "stdout",
          "text": [
            "\b\b\b\b\b\b\b\b\b\b\b\b\b\b\b\b\b\b\b\b\b\b\b\b\b\b\b\b\b\b\b\b\b\b\b\b\b\b\b\b\b\b\b\b\b\b\b\b\b\b\b\b\b\b\b\b\b\b\b\b\b\b\b\b\b\b\b\b\b\b\b\b\b\b\b\b\b\b\b\b\b\b\b\b\b\b\b\b\b\b\b\b\b\b\b\b\b\b\b\b\b\b\b\b\b\b\b\b\b\b\b\b\b\b\b\b\b\b\b\b\r18/18 [==============================] - 2s 111ms/step - loss: 0.1228 - precision_1: 0.9757 - recall_1: 0.9791 - auc_1: 0.9974 - val_loss: 0.4948 - val_precision_1: 0.7910 - val_recall_1: 0.7465 - val_auc_1: 0.8661\n",
            "Epoch 15/30\n",
            "17/18 [===========================>..] - ETA: 0s - loss: 0.0986 - precision_1: 0.9790 - recall_1: 0.9859 - auc_1: 0.9989"
          ]
        },
        {
          "output_type": "stream",
          "name": "stderr",
          "text": [
            "WARNING:tensorflow:Early stopping conditioned on metric `val_recall` which is not available. Available metrics are: loss,precision_1,recall_1,auc_1,val_loss,val_precision_1,val_recall_1,val_auc_1\n",
            "WARNING:tensorflow:Can save best model only with val_recall available, skipping.\n"
          ]
        },
        {
          "output_type": "stream",
          "name": "stdout",
          "text": [
            "\b\b\b\b\b\b\b\b\b\b\b\b\b\b\b\b\b\b\b\b\b\b\b\b\b\b\b\b\b\b\b\b\b\b\b\b\b\b\b\b\b\b\b\b\b\b\b\b\b\b\b\b\b\b\b\b\b\b\b\b\b\b\b\b\b\b\b\b\b\b\b\b\b\b\b\b\b\b\b\b\b\b\b\b\b\b\b\b\b\b\b\b\b\b\b\b\b\b\b\b\b\b\b\b\b\b\b\b\b\b\b\b\b\b\b\b\b\b\b\b\r18/18 [==============================] - 2s 111ms/step - loss: 0.0981 - precision_1: 0.9792 - recall_1: 0.9861 - auc_1: 0.9990 - val_loss: 0.5146 - val_precision_1: 0.8000 - val_recall_1: 0.7324 - val_auc_1: 0.8661\n",
            "Epoch 16/30\n",
            "17/18 [===========================>..] - ETA: 0s - loss: 0.0798 - precision_1: 0.9861 - recall_1: 0.9965 - auc_1: 0.9994"
          ]
        },
        {
          "output_type": "stream",
          "name": "stderr",
          "text": [
            "WARNING:tensorflow:Early stopping conditioned on metric `val_recall` which is not available. Available metrics are: loss,precision_1,recall_1,auc_1,val_loss,val_precision_1,val_recall_1,val_auc_1\n",
            "WARNING:tensorflow:Can save best model only with val_recall available, skipping.\n"
          ]
        },
        {
          "output_type": "stream",
          "name": "stdout",
          "text": [
            "\b\b\b\b\b\b\b\b\b\b\b\b\b\b\b\b\b\b\b\b\b\b\b\b\b\b\b\b\b\b\b\b\b\b\b\b\b\b\b\b\b\b\b\b\b\b\b\b\b\b\b\b\b\b\b\b\b\b\b\b\b\b\b\b\b\b\b\b\b\b\b\b\b\b\b\b\b\b\b\b\b\b\b\b\b\b\b\b\b\b\b\b\b\b\b\b\b\b\b\b\b\b\b\b\b\b\b\b\b\b\b\b\b\b\b\b\b\b\b\b\r18/18 [==============================] - 2s 116ms/step - loss: 0.0794 - precision_1: 0.9862 - recall_1: 0.9965 - auc_1: 0.9994 - val_loss: 0.5282 - val_precision_1: 0.7733 - val_recall_1: 0.8169 - val_auc_1: 0.8686\n",
            "Epoch 17/30\n",
            "17/18 [===========================>..] - ETA: 0s - loss: 0.0586 - precision_1: 0.9965 - recall_1: 1.0000 - auc_1: 0.9999"
          ]
        },
        {
          "output_type": "stream",
          "name": "stderr",
          "text": [
            "WARNING:tensorflow:Early stopping conditioned on metric `val_recall` which is not available. Available metrics are: loss,precision_1,recall_1,auc_1,val_loss,val_precision_1,val_recall_1,val_auc_1\n",
            "WARNING:tensorflow:Can save best model only with val_recall available, skipping.\n"
          ]
        },
        {
          "output_type": "stream",
          "name": "stdout",
          "text": [
            "\b\b\b\b\b\b\b\b\b\b\b\b\b\b\b\b\b\b\b\b\b\b\b\b\b\b\b\b\b\b\b\b\b\b\b\b\b\b\b\b\b\b\b\b\b\b\b\b\b\b\b\b\b\b\b\b\b\b\b\b\b\b\b\b\b\b\b\b\b\b\b\b\b\b\b\b\b\b\b\b\b\b\b\b\b\b\b\b\b\b\b\b\b\b\b\b\b\b\b\b\b\b\b\b\b\b\b\b\b\b\b\b\b\b\b\b\b\b\b\b\r18/18 [==============================] - 2s 115ms/step - loss: 0.0583 - precision_1: 0.9965 - recall_1: 1.0000 - auc_1: 0.9999 - val_loss: 0.5331 - val_precision_1: 0.7910 - val_recall_1: 0.7465 - val_auc_1: 0.8694\n",
            "Epoch 18/30\n",
            "17/18 [===========================>..] - ETA: 0s - loss: 0.0504 - precision_1: 1.0000 - recall_1: 0.9930 - auc_1: 1.0000"
          ]
        },
        {
          "output_type": "stream",
          "name": "stderr",
          "text": [
            "WARNING:tensorflow:Early stopping conditioned on metric `val_recall` which is not available. Available metrics are: loss,precision_1,recall_1,auc_1,val_loss,val_precision_1,val_recall_1,val_auc_1\n",
            "WARNING:tensorflow:Can save best model only with val_recall available, skipping.\n"
          ]
        },
        {
          "output_type": "stream",
          "name": "stdout",
          "text": [
            "\b\b\b\b\b\b\b\b\b\b\b\b\b\b\b\b\b\b\b\b\b\b\b\b\b\b\b\b\b\b\b\b\b\b\b\b\b\b\b\b\b\b\b\b\b\b\b\b\b\b\b\b\b\b\b\b\b\b\b\b\b\b\b\b\b\b\b\b\b\b\b\b\b\b\b\b\b\b\b\b\b\b\b\b\b\b\b\b\b\b\b\b\b\b\b\b\b\b\b\b\b\b\b\b\b\b\b\b\b\b\b\b\b\b\b\b\b\b\b\b\r18/18 [==============================] - 2s 110ms/step - loss: 0.0502 - precision_1: 1.0000 - recall_1: 0.9930 - auc_1: 1.0000 - val_loss: 0.5367 - val_precision_1: 0.7746 - val_recall_1: 0.7746 - val_auc_1: 0.8683\n",
            "Epoch 19/30\n",
            "17/18 [===========================>..] - ETA: 0s - loss: 0.0425 - precision_1: 1.0000 - recall_1: 1.0000 - auc_1: 1.0000"
          ]
        },
        {
          "output_type": "stream",
          "name": "stderr",
          "text": [
            "WARNING:tensorflow:Early stopping conditioned on metric `val_recall` which is not available. Available metrics are: loss,precision_1,recall_1,auc_1,val_loss,val_precision_1,val_recall_1,val_auc_1\n",
            "WARNING:tensorflow:Can save best model only with val_recall available, skipping.\n"
          ]
        },
        {
          "output_type": "stream",
          "name": "stdout",
          "text": [
            "\b\b\b\b\b\b\b\b\b\b\b\b\b\b\b\b\b\b\b\b\b\b\b\b\b\b\b\b\b\b\b\b\b\b\b\b\b\b\b\b\b\b\b\b\b\b\b\b\b\b\b\b\b\b\b\b\b\b\b\b\b\b\b\b\b\b\b\b\b\b\b\b\b\b\b\b\b\b\b\b\b\b\b\b\b\b\b\b\b\b\b\b\b\b\b\b\b\b\b\b\b\b\b\b\b\b\b\b\b\b\b\b\b\b\b\b\b\b\b\b\r18/18 [==============================] - 2s 112ms/step - loss: 0.0423 - precision_1: 1.0000 - recall_1: 1.0000 - auc_1: 1.0000 - val_loss: 0.5482 - val_precision_1: 0.7714 - val_recall_1: 0.7606 - val_auc_1: 0.8680\n",
            "Epoch 20/30\n",
            "17/18 [===========================>..] - ETA: 0s - loss: 0.0377 - precision_1: 0.9930 - recall_1: 1.0000 - auc_1: 0.9999"
          ]
        },
        {
          "output_type": "stream",
          "name": "stderr",
          "text": [
            "WARNING:tensorflow:Early stopping conditioned on metric `val_recall` which is not available. Available metrics are: loss,precision_1,recall_1,auc_1,val_loss,val_precision_1,val_recall_1,val_auc_1\n",
            "WARNING:tensorflow:Can save best model only with val_recall available, skipping.\n"
          ]
        },
        {
          "output_type": "stream",
          "name": "stdout",
          "text": [
            "\b\b\b\b\b\b\b\b\b\b\b\b\b\b\b\b\b\b\b\b\b\b\b\b\b\b\b\b\b\b\b\b\b\b\b\b\b\b\b\b\b\b\b\b\b\b\b\b\b\b\b\b\b\b\b\b\b\b\b\b\b\b\b\b\b\b\b\b\b\b\b\b\b\b\b\b\b\b\b\b\b\b\b\b\b\b\b\b\b\b\b\b\b\b\b\b\b\b\b\b\b\b\b\b\b\b\b\b\b\b\b\b\b\b\b\b\b\b\b\b\r18/18 [==============================] - 2s 111ms/step - loss: 0.0376 - precision_1: 0.9931 - recall_1: 1.0000 - auc_1: 0.9999 - val_loss: 0.5553 - val_precision_1: 0.7746 - val_recall_1: 0.7746 - val_auc_1: 0.8684\n",
            "Epoch 21/30\n",
            "17/18 [===========================>..] - ETA: 0s - loss: 0.0269 - precision_1: 0.9965 - recall_1: 1.0000 - auc_1: 1.0000"
          ]
        },
        {
          "output_type": "stream",
          "name": "stderr",
          "text": [
            "WARNING:tensorflow:Early stopping conditioned on metric `val_recall` which is not available. Available metrics are: loss,precision_1,recall_1,auc_1,val_loss,val_precision_1,val_recall_1,val_auc_1\n",
            "WARNING:tensorflow:Can save best model only with val_recall available, skipping.\n"
          ]
        },
        {
          "output_type": "stream",
          "name": "stdout",
          "text": [
            "\b\b\b\b\b\b\b\b\b\b\b\b\b\b\b\b\b\b\b\b\b\b\b\b\b\b\b\b\b\b\b\b\b\b\b\b\b\b\b\b\b\b\b\b\b\b\b\b\b\b\b\b\b\b\b\b\b\b\b\b\b\b\b\b\b\b\b\b\b\b\b\b\b\b\b\b\b\b\b\b\b\b\b\b\b\b\b\b\b\b\b\b\b\b\b\b\b\b\b\b\b\b\b\b\b\b\b\b\b\b\b\b\b\b\b\b\b\b\b\b\r18/18 [==============================] - 2s 111ms/step - loss: 0.0267 - precision_1: 0.9965 - recall_1: 1.0000 - auc_1: 1.0000 - val_loss: 0.5855 - val_precision_1: 0.7937 - val_recall_1: 0.7042 - val_auc_1: 0.8697\n",
            "Epoch 22/30\n",
            "17/18 [===========================>..] - ETA: 0s - loss: 0.0250 - precision_1: 1.0000 - recall_1: 1.0000 - auc_1: 1.0000"
          ]
        },
        {
          "output_type": "stream",
          "name": "stderr",
          "text": [
            "WARNING:tensorflow:Early stopping conditioned on metric `val_recall` which is not available. Available metrics are: loss,precision_1,recall_1,auc_1,val_loss,val_precision_1,val_recall_1,val_auc_1\n",
            "WARNING:tensorflow:Can save best model only with val_recall available, skipping.\n"
          ]
        },
        {
          "output_type": "stream",
          "name": "stdout",
          "text": [
            "\b\b\b\b\b\b\b\b\b\b\b\b\b\b\b\b\b\b\b\b\b\b\b\b\b\b\b\b\b\b\b\b\b\b\b\b\b\b\b\b\b\b\b\b\b\b\b\b\b\b\b\b\b\b\b\b\b\b\b\b\b\b\b\b\b\b\b\b\b\b\b\b\b\b\b\b\b\b\b\b\b\b\b\b\b\b\b\b\b\b\b\b\b\b\b\b\b\b\b\b\b\b\b\b\b\b\b\b\b\b\b\b\b\b\b\b\b\b\b\b\r18/18 [==============================] - 2s 114ms/step - loss: 0.0248 - precision_1: 1.0000 - recall_1: 1.0000 - auc_1: 1.0000 - val_loss: 0.5883 - val_precision_1: 0.7794 - val_recall_1: 0.7465 - val_auc_1: 0.8710\n",
            "Epoch 23/30\n",
            "17/18 [===========================>..] - ETA: 0s - loss: 0.0219 - precision_1: 1.0000 - recall_1: 0.9965 - auc_1: 1.0000"
          ]
        },
        {
          "output_type": "stream",
          "name": "stderr",
          "text": [
            "WARNING:tensorflow:Early stopping conditioned on metric `val_recall` which is not available. Available metrics are: loss,precision_1,recall_1,auc_1,val_loss,val_precision_1,val_recall_1,val_auc_1\n",
            "WARNING:tensorflow:Can save best model only with val_recall available, skipping.\n"
          ]
        },
        {
          "output_type": "stream",
          "name": "stdout",
          "text": [
            "\b\b\b\b\b\b\b\b\b\b\b\b\b\b\b\b\b\b\b\b\b\b\b\b\b\b\b\b\b\b\b\b\b\b\b\b\b\b\b\b\b\b\b\b\b\b\b\b\b\b\b\b\b\b\b\b\b\b\b\b\b\b\b\b\b\b\b\b\b\b\b\b\b\b\b\b\b\b\b\b\b\b\b\b\b\b\b\b\b\b\b\b\b\b\b\b\b\b\b\b\b\b\b\b\b\b\b\b\b\b\b\b\b\b\b\b\b\b\b\b\r18/18 [==============================] - 2s 112ms/step - loss: 0.0218 - precision_1: 1.0000 - recall_1: 0.9965 - auc_1: 1.0000 - val_loss: 0.5971 - val_precision_1: 0.7857 - val_recall_1: 0.7746 - val_auc_1: 0.8728\n",
            "Epoch 24/30\n",
            "17/18 [===========================>..] - ETA: 0s - loss: 0.0177 - precision_1: 1.0000 - recall_1: 1.0000 - auc_1: 1.0000"
          ]
        },
        {
          "output_type": "stream",
          "name": "stderr",
          "text": [
            "WARNING:tensorflow:Early stopping conditioned on metric `val_recall` which is not available. Available metrics are: loss,precision_1,recall_1,auc_1,val_loss,val_precision_1,val_recall_1,val_auc_1\n",
            "WARNING:tensorflow:Can save best model only with val_recall available, skipping.\n"
          ]
        },
        {
          "output_type": "stream",
          "name": "stdout",
          "text": [
            "\b\b\b\b\b\b\b\b\b\b\b\b\b\b\b\b\b\b\b\b\b\b\b\b\b\b\b\b\b\b\b\b\b\b\b\b\b\b\b\b\b\b\b\b\b\b\b\b\b\b\b\b\b\b\b\b\b\b\b\b\b\b\b\b\b\b\b\b\b\b\b\b\b\b\b\b\b\b\b\b\b\b\b\b\b\b\b\b\b\b\b\b\b\b\b\b\b\b\b\b\b\b\b\b\b\b\b\b\b\b\b\b\b\b\b\b\b\b\b\b\r18/18 [==============================] - 2s 112ms/step - loss: 0.0176 - precision_1: 1.0000 - recall_1: 1.0000 - auc_1: 1.0000 - val_loss: 0.6174 - val_precision_1: 0.7879 - val_recall_1: 0.7324 - val_auc_1: 0.8724\n",
            "Epoch 25/30\n",
            "17/18 [===========================>..] - ETA: 0s - loss: 0.0140 - precision_1: 1.0000 - recall_1: 1.0000 - auc_1: 1.0000"
          ]
        },
        {
          "output_type": "stream",
          "name": "stderr",
          "text": [
            "WARNING:tensorflow:Early stopping conditioned on metric `val_recall` which is not available. Available metrics are: loss,precision_1,recall_1,auc_1,val_loss,val_precision_1,val_recall_1,val_auc_1\n",
            "WARNING:tensorflow:Can save best model only with val_recall available, skipping.\n"
          ]
        },
        {
          "output_type": "stream",
          "name": "stdout",
          "text": [
            "\b\b\b\b\b\b\b\b\b\b\b\b\b\b\b\b\b\b\b\b\b\b\b\b\b\b\b\b\b\b\b\b\b\b\b\b\b\b\b\b\b\b\b\b\b\b\b\b\b\b\b\b\b\b\b\b\b\b\b\b\b\b\b\b\b\b\b\b\b\b\b\b\b\b\b\b\b\b\b\b\b\b\b\b\b\b\b\b\b\b\b\b\b\b\b\b\b\b\b\b\b\b\b\b\b\b\b\b\b\b\b\b\b\b\b\b\b\b\b\b\r18/18 [==============================] - 2s 111ms/step - loss: 0.0139 - precision_1: 1.0000 - recall_1: 1.0000 - auc_1: 1.0000 - val_loss: 0.6409 - val_precision_1: 0.7969 - val_recall_1: 0.7183 - val_auc_1: 0.8709\n",
            "Epoch 26/30\n",
            "17/18 [===========================>..] - ETA: 0s - loss: 0.0137 - precision_1: 1.0000 - recall_1: 1.0000 - auc_1: 1.0000"
          ]
        },
        {
          "output_type": "stream",
          "name": "stderr",
          "text": [
            "WARNING:tensorflow:Early stopping conditioned on metric `val_recall` which is not available. Available metrics are: loss,precision_1,recall_1,auc_1,val_loss,val_precision_1,val_recall_1,val_auc_1\n",
            "WARNING:tensorflow:Can save best model only with val_recall available, skipping.\n"
          ]
        },
        {
          "output_type": "stream",
          "name": "stdout",
          "text": [
            "\b\b\b\b\b\b\b\b\b\b\b\b\b\b\b\b\b\b\b\b\b\b\b\b\b\b\b\b\b\b\b\b\b\b\b\b\b\b\b\b\b\b\b\b\b\b\b\b\b\b\b\b\b\b\b\b\b\b\b\b\b\b\b\b\b\b\b\b\b\b\b\b\b\b\b\b\b\b\b\b\b\b\b\b\b\b\b\b\b\b\b\b\b\b\b\b\b\b\b\b\b\b\b\b\b\b\b\b\b\b\b\b\b\b\b\b\b\b\b\b\r18/18 [==============================] - 2s 111ms/step - loss: 0.0136 - precision_1: 1.0000 - recall_1: 1.0000 - auc_1: 1.0000 - val_loss: 0.6596 - val_precision_1: 0.7969 - val_recall_1: 0.7183 - val_auc_1: 0.8711\n",
            "Epoch 27/30\n",
            "17/18 [===========================>..] - ETA: 0s - loss: 0.0110 - precision_1: 1.0000 - recall_1: 1.0000 - auc_1: 1.0000"
          ]
        },
        {
          "output_type": "stream",
          "name": "stderr",
          "text": [
            "WARNING:tensorflow:Early stopping conditioned on metric `val_recall` which is not available. Available metrics are: loss,precision_1,recall_1,auc_1,val_loss,val_precision_1,val_recall_1,val_auc_1\n",
            "WARNING:tensorflow:Can save best model only with val_recall available, skipping.\n"
          ]
        },
        {
          "output_type": "stream",
          "name": "stdout",
          "text": [
            "\b\b\b\b\b\b\b\b\b\b\b\b\b\b\b\b\b\b\b\b\b\b\b\b\b\b\b\b\b\b\b\b\b\b\b\b\b\b\b\b\b\b\b\b\b\b\b\b\b\b\b\b\b\b\b\b\b\b\b\b\b\b\b\b\b\b\b\b\b\b\b\b\b\b\b\b\b\b\b\b\b\b\b\b\b\b\b\b\b\b\b\b\b\b\b\b\b\b\b\b\b\b\b\b\b\b\b\b\b\b\b\b\b\b\b\b\b\b\b\b\r18/18 [==============================] - 2s 111ms/step - loss: 0.0110 - precision_1: 1.0000 - recall_1: 1.0000 - auc_1: 1.0000 - val_loss: 0.6802 - val_precision_1: 0.8033 - val_recall_1: 0.6901 - val_auc_1: 0.8709\n",
            "Epoch 28/30\n",
            "17/18 [===========================>..] - ETA: 0s - loss: 0.0101 - precision_1: 1.0000 - recall_1: 1.0000 - auc_1: 1.0000"
          ]
        },
        {
          "output_type": "stream",
          "name": "stderr",
          "text": [
            "WARNING:tensorflow:Early stopping conditioned on metric `val_recall` which is not available. Available metrics are: loss,precision_1,recall_1,auc_1,val_loss,val_precision_1,val_recall_1,val_auc_1\n",
            "WARNING:tensorflow:Can save best model only with val_recall available, skipping.\n"
          ]
        },
        {
          "output_type": "stream",
          "name": "stdout",
          "text": [
            "\b\b\b\b\b\b\b\b\b\b\b\b\b\b\b\b\b\b\b\b\b\b\b\b\b\b\b\b\b\b\b\b\b\b\b\b\b\b\b\b\b\b\b\b\b\b\b\b\b\b\b\b\b\b\b\b\b\b\b\b\b\b\b\b\b\b\b\b\b\b\b\b\b\b\b\b\b\b\b\b\b\b\b\b\b\b\b\b\b\b\b\b\b\b\b\b\b\b\b\b\b\b\b\b\b\b\b\b\b\b\b\b\b\b\b\b\b\b\b\b\r18/18 [==============================] - 2s 113ms/step - loss: 0.0101 - precision_1: 1.0000 - recall_1: 1.0000 - auc_1: 1.0000 - val_loss: 0.7347 - val_precision_1: 0.8036 - val_recall_1: 0.6338 - val_auc_1: 0.8688\n",
            "Epoch 29/30\n",
            "17/18 [===========================>..] - ETA: 0s - loss: 0.0102 - precision_1: 1.0000 - recall_1: 1.0000 - auc_1: 1.0000"
          ]
        },
        {
          "output_type": "stream",
          "name": "stderr",
          "text": [
            "WARNING:tensorflow:Early stopping conditioned on metric `val_recall` which is not available. Available metrics are: loss,precision_1,recall_1,auc_1,val_loss,val_precision_1,val_recall_1,val_auc_1\n",
            "WARNING:tensorflow:Can save best model only with val_recall available, skipping.\n"
          ]
        },
        {
          "output_type": "stream",
          "name": "stdout",
          "text": [
            "\b\b\b\b\b\b\b\b\b\b\b\b\b\b\b\b\b\b\b\b\b\b\b\b\b\b\b\b\b\b\b\b\b\b\b\b\b\b\b\b\b\b\b\b\b\b\b\b\b\b\b\b\b\b\b\b\b\b\b\b\b\b\b\b\b\b\b\b\b\b\b\b\b\b\b\b\b\b\b\b\b\b\b\b\b\b\b\b\b\b\b\b\b\b\b\b\b\b\b\b\b\b\b\b\b\b\b\b\b\b\b\b\b\b\b\b\b\b\b\b\r18/18 [==============================] - 2s 113ms/step - loss: 0.0102 - precision_1: 1.0000 - recall_1: 1.0000 - auc_1: 1.0000 - val_loss: 0.6820 - val_precision_1: 0.7969 - val_recall_1: 0.7183 - val_auc_1: 0.8696\n",
            "Epoch 30/30\n",
            "17/18 [===========================>..] - ETA: 0s - loss: 0.0074 - precision_1: 1.0000 - recall_1: 1.0000 - auc_1: 1.0000"
          ]
        },
        {
          "output_type": "stream",
          "name": "stderr",
          "text": [
            "WARNING:tensorflow:Early stopping conditioned on metric `val_recall` which is not available. Available metrics are: loss,precision_1,recall_1,auc_1,val_loss,val_precision_1,val_recall_1,val_auc_1\n",
            "WARNING:tensorflow:Can save best model only with val_recall available, skipping.\n"
          ]
        },
        {
          "output_type": "stream",
          "name": "stdout",
          "text": [
            "\b\b\b\b\b\b\b\b\b\b\b\b\b\b\b\b\b\b\b\b\b\b\b\b\b\b\b\b\b\b\b\b\b\b\b\b\b\b\b\b\b\b\b\b\b\b\b\b\b\b\b\b\b\b\b\b\b\b\b\b\b\b\b\b\b\b\b\b\b\b\b\b\b\b\b\b\b\b\b\b\b\b\b\b\b\b\b\b\b\b\b\b\b\b\b\b\b\b\b\b\b\b\b\b\b\b\b\b\b\b\b\b\b\b\b\b\b\b\b\b\r18/18 [==============================] - 2s 112ms/step - loss: 0.0073 - precision_1: 1.0000 - recall_1: 1.0000 - auc_1: 1.0000 - val_loss: 0.6997 - val_precision_1: 0.8103 - val_recall_1: 0.6620 - val_auc_1: 0.8698\n"
          ]
        }
      ]
    },
    {
      "cell_type": "code",
      "source": [
        "import matplotlib.pyplot as plt\n",
        "\n",
        "metric_keys = list(history.history.keys())\n",
        "num_metrics = len(metric_keys) // 2  # Assuming there's a validation metric for each training metric\n",
        "epochs_range = range(len(history.history[metric_keys[0]]))  # Number of epochs\n",
        "\n",
        "# Calculate the number of rows needed (each row contains plots for one metric and its validation counterpart)\n",
        "num_rows = (num_metrics + 1) // 2 if num_metrics % 2 != 0 else num_metrics // 2\n",
        "\n",
        "plt.figure(figsize=(12, 4 * num_rows))  # Adjust the figure size\n",
        "\n",
        "for i in range(num_metrics):\n",
        "    metric = metric_keys[i]\n",
        "    val_metric = metric_keys[i + num_metrics]  # Validation metric corresponding to the training metric\n",
        "\n",
        "    plt.subplot(num_rows, 2, i + 1)\n",
        "    plt.plot(epochs_range, history.history[metric], label=f'Training {metric}')\n",
        "    plt.plot(epochs_range, history.history[val_metric], label=f'Validation {metric}')\n",
        "    plt.legend(loc='best')\n",
        "    plt.title(f'Training and Validation {metric}')\n",
        "\n",
        "plt.tight_layout()\n",
        "plt.show()\n"
      ],
      "metadata": {
        "id": "Wh53GD-Yq8KN",
        "colab": {
          "base_uri": "https://localhost:8080/",
          "height": 651
        },
        "outputId": "e45284ef-d8a7-4e92-9d1c-9c454558fb75"
      },
      "execution_count": null,
      "outputs": [
        {
          "output_type": "display_data",
          "data": {
            "text/plain": [
              "<Figure size 1200x800 with 4 Axes>"
            ],
            "image/png": "[encoded data removed]"
          },
          "metadata": {}
        }
      ]
    },
    {
      "cell_type": "code",
      "source": [
        "from sklearn.metrics import confusion_matrix, classification_report\n",
        "\n",
        "from tensorflow.keras.models import load_model\n",
        "from sklearn.metrics import confusion_matrix, classification_report, ConfusionMatrixDisplay\n",
        "import numpy as np\n",
        "import seaborn as sns\n",
        "import matplotlib.pyplot as plt\n",
        "\n",
        "threshold = 0.3 #the lower the value, the higher recall for 1 class\n",
        "\n",
        "# Load the model\n",
        "model = load_model('/content/drive/MyDrive/Model/amd_model.h5')\n",
        "\n",
        "#y_val = normalized_val_ds.map(lambda x, y: y)\n",
        "# Prepare true labels\n",
        "y_true = np.concatenate([y for x, y in normalized_val_ds], axis=0)\n",
        "if num_classes > 2:\n",
        "  y_true = np.argmax(y_true, axis=1)\n",
        "# Make predictions\n",
        "predictions = model.predict(normalized_val_ds)\n",
        "if num_classes > 2:\n",
        "  predictions = np.argmax(predictions, axis=1)\n",
        "predictions = (np.squeeze(predictions) > threshold).astype(int)\n",
        "\n",
        "disp = ConfusionMatrixDisplay.from_predictions(y_true, predictions)\n",
        "disp.figure_.suptitle(\"Confusion Matrix\")\n",
        "print(f\"Confusion matrix:\\n{disp.confusion_matrix}\")\n",
        "plt.show()\n",
        "\n",
        "# Compute confusion matrix and classification report\n",
        "#cm = confusion_matrix(y_true, predictions)\n",
        "#sns.heatmap(cm, annot=True, fmt=\"d\")\n",
        "#plt.show()\n",
        "\n",
        "print(classification_report(y_true, predictions))"
      ],
      "metadata": {
        "colab": {
          "base_uri": "https://localhost:8080/",
          "height": 722
        },
        "id": "8xvP0f6s1niG",
        "outputId": "348b39b0-fb06-434c-9db2-e37594d5d4cb"
      },
      "execution_count": null,
      "outputs": [
        {
          "output_type": "stream",
          "name": "stdout",
          "text": [
            "5/5 [==============================] - 1s 43ms/step\n",
            "Confusion matrix:\n",
            "[[38 27]\n",
            " [13 58]]\n"
          ]
        },
        {
          "output_type": "display_data",
          "data": {
            "text/plain": [
              "<Figure size 640x480 with 2 Axes>"
            ],
            "image/png": "[encoded data removed]"
          },
          "metadata": {}
        },
        {
          "output_type": "stream",
          "name": "stdout",
          "text": [
            "              precision    recall  f1-score   support\n",
            "\n",
            "         0.0       0.75      0.58      0.66        65\n",
            "         1.0       0.68      0.82      0.74        71\n",
            "\n",
            "    accuracy                           0.71       136\n",
            "   macro avg       0.71      0.70      0.70       136\n",
            "weighted avg       0.71      0.71      0.70       136\n",
            "\n"
          ]
        }
      ]
    },
    {
      "cell_type": "code",
      "source": [
        "# Test model by supplying various images\n",
        "import numpy as np\n",
        "import matplotlib.pyplot as plt\n",
        "from tensorflow.keras.models import load_model\n",
        "from tensorflow.keras.preprocessing.image import load_img, img_to_array\n",
        "from PIL import Image\n",
        "from tensorflow.keras import layers\n",
        "\n",
        "### Provide inputs\n",
        "# Pick a raw unmodified image\n",
        "imgpath = '/content/drive/MyDrive/AI/a-brazilian-multilabel-ophthalmological-dataset-brset-1.0.0/fundus_photos/img15763.jpg'\n",
        "# Load previously saved models\n",
        "model_drprog = '/content/drive/MyDrive/Model/amd_model.h5'\n",
        "\n",
        "# Downscale image to fit training resolution\n",
        "image = load_img(imgpath, target_size=(224, 224))\n",
        "input_image = img_to_array(image)\n",
        "input_image = input_image/255 #Normalize to 0-1 range\n",
        "input_image = input_image.reshape(1, 224, 224, 3)  # Add batch dimension and match model input shape\n",
        "\n",
        "# Load the model\n",
        "model = load_model(model_drprog)\n",
        "\n",
        "# Make predictions\n",
        "predictions = model.predict(input_image)\n",
        "print(predictions)\n",
        "#predictmax = np.argmax(predictions, axis=1)\n",
        "#predictions = (np.squeeze(predictions) > threshold).astype(int)\n",
        "predictprob = predictions[0][0] * 100\n",
        "\n",
        "print(\"Prediction for Image probability\",  predictprob,'%')\n",
        "\n"
      ],
      "metadata": {
        "colab": {
          "base_uri": "https://localhost:8080/",
          "height": 401
        },
        "id": "mQuBARhENWLP",
        "outputId": "4b93d954-c7cc-4183-d741-31f20bf21504"
      },
      "execution_count": null,
      "outputs": [
        {
          "output_type": "error",
          "ename": "FileNotFoundError",
          "evalue": "[Errno 2] No such file or directory: '/content/drive/MyDrive/AI/a-brazilian-multilabel-ophthalmological-dataset-brset-1.0.0/fundus_photos/img15763.jpg'",
          "traceback": [
            "\u001b[0;31m---------------------------------------------------------------------------\u001b[0m",
            "\u001b[0;31mFileNotFoundError\u001b[0m                         Traceback (most recent call last)",
            "\u001b[0;32m<ipython-input-30-785a0e18fe44>\u001b[0m in \u001b[0;36m<cell line: 16>\u001b[0;34m()\u001b[0m\n\u001b[1;32m     14\u001b[0m \u001b[0;34m\u001b[0m\u001b[0m\n\u001b[1;32m     15\u001b[0m \u001b[0;31m# Downscale image to fit training resolution\u001b[0m\u001b[0;34m\u001b[0m\u001b[0;34m\u001b[0m\u001b[0m\n\u001b[0;32m---> 16\u001b[0;31m \u001b[0mimage\u001b[0m \u001b[0;34m=\u001b[0m \u001b[0mload_img\u001b[0m\u001b[0;34m(\u001b[0m\u001b[0mimgpath\u001b[0m\u001b[0;34m,\u001b[0m \u001b[0mtarget_size\u001b[0m\u001b[0;34m=\u001b[0m\u001b[0;34m(\u001b[0m\u001b[0;36m224\u001b[0m\u001b[0;34m,\u001b[0m \u001b[0;36m224\u001b[0m\u001b[0;34m)\u001b[0m\u001b[0;34m)\u001b[0m\u001b[0;34m\u001b[0m\u001b[0;34m\u001b[0m\u001b[0m\n\u001b[0m\u001b[1;32m     17\u001b[0m \u001b[0minput_image\u001b[0m \u001b[0;34m=\u001b[0m \u001b[0mimg_to_array\u001b[0m\u001b[0;34m(\u001b[0m\u001b[0mimage\u001b[0m\u001b[0;34m)\u001b[0m\u001b[0;34m\u001b[0m\u001b[0;34m\u001b[0m\u001b[0m\n\u001b[1;32m     18\u001b[0m \u001b[0minput_image\u001b[0m \u001b[0;34m=\u001b[0m \u001b[0minput_image\u001b[0m\u001b[0;34m/\u001b[0m\u001b[0;36m255\u001b[0m \u001b[0;31m#Normalize to 0-1 range\u001b[0m\u001b[0;34m\u001b[0m\u001b[0;34m\u001b[0m\u001b[0m\n",
            "\u001b[0;32m/usr/local/lib/python3.10/dist-packages/keras/src/utils/image_utils.py\u001b[0m in \u001b[0;36mload_img\u001b[0;34m(path, grayscale, color_mode, target_size, interpolation, keep_aspect_ratio)\u001b[0m\n\u001b[1;32m    420\u001b[0m         \u001b[0;32mif\u001b[0m \u001b[0misinstance\u001b[0m\u001b[0;34m(\u001b[0m\u001b[0mpath\u001b[0m\u001b[0;34m,\u001b[0m \u001b[0mpathlib\u001b[0m\u001b[0;34m.\u001b[0m\u001b[0mPath\u001b[0m\u001b[0;34m)\u001b[0m\u001b[0;34m:\u001b[0m\u001b[0;34m\u001b[0m\u001b[0;34m\u001b[0m\u001b[0m\n\u001b[1;32m    421\u001b[0m             \u001b[0mpath\u001b[0m \u001b[0;34m=\u001b[0m \u001b[0mstr\u001b[0m\u001b[0;34m(\u001b[0m\u001b[0mpath\u001b[0m\u001b[0;34m.\u001b[0m\u001b[0mresolve\u001b[0m\u001b[0;34m(\u001b[0m\u001b[0;34m)\u001b[0m\u001b[0;34m)\u001b[0m\u001b[0;34m\u001b[0m\u001b[0;34m\u001b[0m\u001b[0m\n\u001b[0;32m--> 422\u001b[0;31m         \u001b[0;32mwith\u001b[0m \u001b[0mopen\u001b[0m\u001b[0;34m(\u001b[0m\u001b[0mpath\u001b[0m\u001b[0;34m,\u001b[0m \u001b[0;34m\"rb\"\u001b[0m\u001b[0;34m)\u001b[0m \u001b[0;32mas\u001b[0m \u001b[0mf\u001b[0m\u001b[0;34m:\u001b[0m\u001b[0;34m\u001b[0m\u001b[0;34m\u001b[0m\u001b[0m\n\u001b[0m\u001b[1;32m    423\u001b[0m             \u001b[0mimg\u001b[0m \u001b[0;34m=\u001b[0m \u001b[0mpil_image\u001b[0m\u001b[0;34m.\u001b[0m\u001b[0mopen\u001b[0m\u001b[0;34m(\u001b[0m\u001b[0mio\u001b[0m\u001b[0;34m.\u001b[0m\u001b[0mBytesIO\u001b[0m\u001b[0;34m(\u001b[0m\u001b[0mf\u001b[0m\u001b[0;34m.\u001b[0m\u001b[0mread\u001b[0m\u001b[0;34m(\u001b[0m\u001b[0;34m)\u001b[0m\u001b[0;34m)\u001b[0m\u001b[0;34m)\u001b[0m\u001b[0;34m\u001b[0m\u001b[0;34m\u001b[0m\u001b[0m\n\u001b[1;32m    424\u001b[0m     \u001b[0;32melse\u001b[0m\u001b[0;34m:\u001b[0m\u001b[0;34m\u001b[0m\u001b[0;34m\u001b[0m\u001b[0m\n",
            "\u001b[0;31mFileNotFoundError\u001b[0m: [Errno 2] No such file or directory: '/content/drive/MyDrive/AI/a-brazilian-multilabel-ophthalmological-dataset-brset-1.0.0/fundus_photos/img15763.jpg'"
          ]
        }
      ]
    }
  ]
}